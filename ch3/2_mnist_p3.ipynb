{
 "cells": [
  {
   "cell_type": "code",
   "execution_count": 9,
   "metadata": {},
   "outputs": [],
   "source": [
    "import numpy as np, random, humanfriendly as hf\n",
    "import time\n",
    "from sklearn.model_selection import train_test_split\n",
    "from sklearn.preprocessing import StandardScaler\n",
    "from sklearn.svm import SVC\n",
    "from sklearn.neighbors import KNeighborsClassifier\n",
    "import matplotlib.pyplot as plt\n"
   ]
  },
  {
   "cell_type": "code",
   "execution_count": 10,
   "metadata": {},
   "outputs": [],
   "source": [
    "def prep_data(data, target):\n",
    "    d = [data[i] for i, _ in enumerate(data)]\n",
    "    t = [target[i] for i, _ in enumerate(target)]\n",
    "    return list(zip(d, t))"
   ]
  },
  {
   "cell_type": "code",
   "execution_count": 11,
   "metadata": {},
   "outputs": [],
   "source": [
    "def create_sample(d, n, replace='yes'):\n",
    "    if replace == 'yes': s = random.sample(d, n)\n",
    "    else: s = [random.choice(d) for i, _ in enumerate(d) if i < n]\n",
    "    Xs = [row[0] for i, row in enumerate(s)]\n",
    "    ys = [row[1] for i, row in enumerate(s)]\n",
    "    return np.array(Xs), np.array(ys)"
   ]
  },
  {
   "cell_type": "code",
   "execution_count": 12,
   "metadata": {},
   "outputs": [],
   "source": [
    "def see_time(note):\n",
    "    end = time.perf_counter()\n",
    "    elapsed = end - start\n",
    "    print (note,hf.format_timespan(elapsed, detailed=True))\n"
   ]
  },
  {
   "cell_type": "code",
   "execution_count": 13,
   "metadata": {},
   "outputs": [],
   "source": [
    "X_file = 'data/X_mnist'\n",
    "y_file = 'data/y_mnist'\n",
    "X = np.load('data/X_mnist.npy')\n",
    "y = np.load('data/y_mnist.npy')\n",
    "X = X.astype(np.float32)\n",
    "sample_size = 4000\n",
    "data = prep_data(X, y)\n",
    "Xs, ys = create_sample(data, sample_size, replace='no')\n",
    "X_train, X_test, y_train, y_test = train_test_split(Xs, ys, test_size=0.10, random_state=0)\n"
   ]
  },
  {
   "cell_type": "code",
   "execution_count": 14,
   "metadata": {},
   "outputs": [],
   "source": [
    "scaler = StandardScaler().fit(X_train)\n",
    "X_train_std, X_test_std = scaler.transform(X_train),scaler.transform(X_test)\n"
   ]
  },
  {
   "cell_type": "code",
   "execution_count": 16,
   "metadata": {},
   "outputs": [
    {
     "name": "stdout",
     "output_type": "stream",
     "text": [
      "train: 6 seconds, 560 milliseconds, 811 microseconds and 900 nanoseconds\n",
      "predict: 654 milliseconds, 944 microseconds and 800 nanoseconds\n",
      "score: 6 seconds, 425 milliseconds, 707 microseconds and 400 nanoseconds\n",
      "SVC train score: 0.9777777777777777  test score 0.9075\n"
     ]
    }
   ],
   "source": [
    "# 使用SVM来训练\n",
    "svm = SVC(random_state=0, gamma='scale')\n",
    "svm_name = svm.__class__.__name__\n",
    "\n",
    "start = time.perf_counter()\n",
    "svm.fit(X_train_std, y_train)\n",
    "see_time('train:')\n",
    "start = time.perf_counter()\n",
    "y_pred = svm.predict(X_test_std)\n",
    "see_time('predict:')\n",
    "start = time.perf_counter()\n",
    "train_score = svm.score(X_train_std, y_train)\n",
    "test_score = svm.score(X_test_std, y_test)\n",
    "see_time('score:')\n",
    "print (svm_name,'train score:', train_score,' test score', test_score)\n"
   ]
  },
  {
   "cell_type": "code",
   "execution_count": 17,
   "metadata": {},
   "outputs": [
    {
     "name": "stdout",
     "output_type": "stream",
     "text": [
      "train: 226 milliseconds, 140 microseconds and 500 nanoseconds\n",
      "predict: 28 microseconds and 500 nanoseconds\n",
      "score: 15 seconds, 39 milliseconds, 321 microseconds and 800 nanoseconds\n",
      "KNeighborsClassifier  train score: 0.9419444444444445 test score: 0.92\n"
     ]
    }
   ],
   "source": [
    "knn = KNeighborsClassifier()\n",
    "knn_name = knn.__class__.__name__\n",
    "start = time.perf_counter()\n",
    "knn.fit(X_train, y_train)\n",
    "see_time('train:')\n",
    "start = time.perf_counter()\n",
    "## y_pred = knn.predict(X_test)\n",
    "see_time('predict:')\n",
    "start = time.perf_counter()\n",
    "train_score = knn.score(X_train, y_train)\n",
    "test_score = knn.score(X_test, y_test)\n",
    "see_time('score:')\n",
    "print (knn_name,' train score:', train_score,'test score:', test_score)"
   ]
  },
  {
   "cell_type": "code",
   "execution_count": null,
   "metadata": {},
   "outputs": [],
   "source": []
  }
 ],
 "metadata": {
  "kernelspec": {
   "display_name": "Python 3",
   "language": "python",
   "name": "python3"
  },
  "language_info": {
   "codemirror_mode": {
    "name": "ipython",
    "version": 3
   },
   "file_extension": ".py",
   "mimetype": "text/x-python",
   "name": "python",
   "nbconvert_exporter": "python",
   "pygments_lexer": "ipython3",
   "version": "3.7.4"
  }
 },
 "nbformat": 4,
 "nbformat_minor": 2
}
