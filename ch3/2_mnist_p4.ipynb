{
 "cells": [
  {
   "cell_type": "code",
   "execution_count": 1,
   "metadata": {},
   "outputs": [],
   "source": [
    "import numpy as np, random, humanfriendly as hf\n",
    "import time\n",
    "from sklearn.decomposition import PCA# 主成分分析，降维\n",
    "from sklearn.model_selection import train_test_split\n",
    "from sklearn.preprocessing import StandardScaler\n",
    "from sklearn.svm import SVC\n",
    "from sklearn.neighbors import KNeighborsClassifier\n",
    "from sklearn.metrics import f1_score\n",
    "from sklearn.metrics import confusion_matrix\n",
    "import matplotlib.pyplot as plt, seaborn as sns\n"
   ]
  },
  {
   "cell_type": "code",
   "execution_count": 3,
   "metadata": {},
   "outputs": [],
   "source": [
    "def prep_data(data, target):\n",
    "    d = [data[i] for i, _ in enumerate(data)]\n",
    "    t = [target[i] for i, _ in enumerate(target)]\n",
    "    return list(zip(d, t))\n"
   ]
  },
  {
   "cell_type": "code",
   "execution_count": 4,
   "metadata": {},
   "outputs": [],
   "source": [
    "def create_sample(d, n, replace='yes'):\n",
    "    if replace == 'yes': s = random.sample(d, n)\n",
    "    else: s = [random.choice(d) for i, _ in enumerate(d) if i < n]\n",
    "    Xs = [row[0] for i, row in enumerate(s)]\n",
    "    ys = [row[1] for i, row in enumerate(s)]\n",
    "    return np.array(Xs), np.array(ys)\n",
    "\n"
   ]
  },
  {
   "cell_type": "code",
   "execution_count": 16,
   "metadata": {},
   "outputs": [],
   "source": [
    "def see_time(note,start):\n",
    "    end = time.perf_counter()\n",
    "    elapsed = end - start\n",
    "    print (note,hf.format_timespan(elapsed, detailed=True))"
   ]
  },
  {
   "cell_type": "code",
   "execution_count": 6,
   "metadata": {},
   "outputs": [],
   "source": [
    "def get_scores(model, xtrain, ytrain, xtest, ytest):\n",
    "    ypred = model.predict(xtest)\n",
    "    train = model.score(xtrain, ytrain)\n",
    "    test = model.score(xtest, y_test)\n",
    "    f1 = f1_score(ytest, ypred, average='macro')\n",
    "    return (ypred, train, test, f1)\n",
    "\n"
   ]
  },
  {
   "cell_type": "code",
   "execution_count": 12,
   "metadata": {},
   "outputs": [],
   "source": [
    "# 准备数据，处理数据，归一化\n",
    "X_file = 'data/X_mnist'\n",
    "y_file = 'data/y_mnist'\n",
    "X = np.load('data/X_mnist.npy')\n",
    "y = np.load('data/y_mnist.npy')\n",
    "X = X.astype(np.float32)\n",
    "data = prep_data(X, y)\n",
    "sample_size = 7000\n",
    "Xs, ys = create_sample(data, sample_size, replace='no')\n"
   ]
  },
  {
   "cell_type": "code",
   "execution_count": 13,
   "metadata": {},
   "outputs": [
    {
     "name": "stdout",
     "output_type": "stream",
     "text": [
      "sample feature shape: (7000, 784)\n",
      "(7000, 149)\n",
      "feature components with PCA: 149\n"
     ]
    }
   ],
   "source": [
    "# 给数据降维\n",
    "pca = PCA(n_components=0.95, random_state=0)\n",
    "'''\n",
    "n_components：要保留的成分数量，其值类型可以设为整型，浮点型，字符串。如果不指定该值，n_components == min(n_samples, n_features)；如果n_components == 'mle'，并且svd_solver == 'full'，则使用Minka’s MLE方法估计维度。当0 < n_components < 1时，并且svd_solver == 'full'时，方差值必须大于n_components，如果 n_components == 'arpack'，则n_components必须严格的等于特征与样本数之间的最小值。\n",
    "copy：默认为True值\n",
    "whiten:默认为False\n",
    "svd_solver：字符型数值，默认为auto，其余可选值有：full,arpack,randomized。算法根据数据的规模以及n_components来自动选择合适的参数。\n",
    "\n",
    "'''\n",
    "Xs_reduced = pca.fit_transform(Xs)\n",
    "print ('sample feature shape:', Xs.shape)\n",
    "components = pca.n_components_\n",
    "print(Xs_reduced.shape)\n",
    "print ('feature components with PCA:', components)"
   ]
  },
  {
   "cell_type": "code",
   "execution_count": 14,
   "metadata": {},
   "outputs": [],
   "source": [
    "X_train, X_test, y_train, y_test = train_test_split(Xs_reduced, ys, test_size=0.10, random_state=0)\n",
    "scaler = StandardScaler().fit(X_train)\n",
    "X_train_std, X_test_std = scaler.transform(X_train),scaler.transform(X_test)"
   ]
  },
  {
   "cell_type": "code",
   "execution_count": 18,
   "metadata": {},
   "outputs": [
    {
     "name": "stdout",
     "output_type": "stream",
     "text": [
      "SVC total training time: 12 seconds, 665 milliseconds, 528 microseconds and 500 nanoseconds\n",
      "SVC: 0.996031746031746 0.9414285714285714 0.9396460289128028\n"
     ]
    }
   ],
   "source": [
    "start = time.perf_counter()\n",
    "svm = SVC(random_state=0).fit(X_train_std, y_train)\n",
    "svm_name = svm.__class__.__name__\n",
    "svm_scores = get_scores(svm, X_train_std, y_train,X_test_std, y_test)\n",
    "cm_svm = confusion_matrix(y_test, svm_scores[0])\n",
    "see_time(svm_name + ' total training time:',start)\n",
    "print (svm_name + ':', svm_scores[1], svm_scores[2],svm_scores[3])\n"
   ]
  },
  {
   "cell_type": "code",
   "execution_count": 19,
   "metadata": {},
   "outputs": [
    {
     "name": "stdout",
     "output_type": "stream",
     "text": [
      "KNeighborsClassifier total training time: 12 seconds, 999 milliseconds, 346 microseconds and 300 nanoseconds\n",
      "KNeighborsClassifier: 0.9607936507936508 0.9414285714285714 0.9411909943348471\n"
     ]
    }
   ],
   "source": [
    "start = time.perf_counter()\n",
    "knn = KNeighborsClassifier().fit(X_train, y_train)\n",
    "knn_name = knn.__class__.__name__\n",
    "knn_scores = get_scores(knn, X_train, y_train,X_test, y_test)\n",
    "cm_knn = confusion_matrix(y_test, knn_scores[0])\n",
    "see_time(knn_name + ' total training time:',start)\n",
    "print (knn_name + ':', knn_scores[1], knn_scores[2],knn_scores[3])"
   ]
  },
  {
   "cell_type": "code",
   "execution_count": 27,
   "metadata": {},
   "outputs": [
    {
     "data": {
      "text/plain": [
       "Text(33.0, 0.5, 'predicted value')"
      ]
     },
     "execution_count": 27,
     "metadata": {},
     "output_type": "execute_result"
    },
    {
     "data": {
      "image/png": "[encoded data removed]",
      "text/plain": [
       "<Figure size 432x360 with 2 Axes>"
      ]
     },
     "metadata": {
      "needs_background": "light"
     },
     "output_type": "display_data"
    }
   ],
   "source": [
    "plt.figure(svm_name,figsize=(6,5))\n",
    "ax = plt.axes()\n",
    "sns.heatmap(cm_svm.T, annot=True, fmt=\"d\",cmap='gist_ncar_r', ax=ax)\n",
    "ax.set_title(str(svm_name) + ' confustion matrix\\n')\n",
    "plt.xlabel('true value')\n",
    "plt.ylabel('predicted value')\n"
   ]
  },
  {
   "cell_type": "code",
   "execution_count": 33,
   "metadata": {},
   "outputs": [
    {
     "data": {
      "text/plain": [
       "Text(42.0, 0.5, 'predicted value')"
      ]
     },
     "execution_count": 33,
     "metadata": {},
     "output_type": "execute_result"
    },
    {
     "data": {
      "image/png": "[encoded data removed]",
      "text/plain": [
       "<Figure size 504x360 with 2 Axes>"
      ]
     },
     "metadata": {
      "needs_background": "light"
     },
     "output_type": "display_data"
    }
   ],
   "source": [
    "plt.figure(knn_name,figsize=(7,5))\n",
    "ax = plt.axes()\n",
    "sns.heatmap(cm_knn.T, annot=True, fmt=\"d\",cmap='gist_ncar_r', ax=ax)\n",
    "ax.set_title(str(knn_name) + ' confustion matrix\\n')\n",
    "plt.xlabel('true value')\n",
    "plt.ylabel('predicted value')"
   ]
  },
  {
   "cell_type": "code",
   "execution_count": null,
   "metadata": {},
   "outputs": [],
   "source": []
  }
 ],
 "metadata": {
  "kernelspec": {
   "display_name": "Python 3",
   "language": "python",
   "name": "python3"
  },
  "language_info": {
   "codemirror_mode": {
    "name": "ipython",
    "version": 3
   },
   "file_extension": ".py",
   "mimetype": "text/x-python",
   "name": "python",
   "nbconvert_exporter": "python",
   "pygments_lexer": "ipython3",
   "version": "3.7.4"
  }
 },
 "nbformat": 4,
 "nbformat_minor": 2
}
