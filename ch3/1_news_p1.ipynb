{
 "cells": [
  {
   "cell_type": "code",
   "execution_count": null,
   "metadata": {},
   "outputs": [
    {
     "name": "stderr",
     "output_type": "stream",
     "text": [
      "Downloading 20news dataset. This may take a few minutes.\n",
      "Downloading dataset from https://ndownloader.figshare.com/files/5975967 (14 MB)\n"
     ]
    }
   ],
   "source": [
    "from sklearn.datasets import fetch_20newsgroups\n",
    "from sklearn.feature_extraction.text import TfidfVectorizer\n",
    "from sklearn.naive_bayes import MultinomialNB\n",
    "from sklearn.pipeline import make_pipeline\n",
    "from sklearn.metrics import confusion_matrix, f1_score\n",
    "import matplotlib.pyplot as plt\n",
    "import seaborn as sns\n",
    "\n",
    "def predict_category(s, m, t):\n",
    "    pred = m.predict([s])\n",
    "    return t[pred[0]]\n",
    "\n",
    "if __name__ == \"__main__\":\n",
    "    br = '\\n'\n",
    "    train = fetch_20newsgroups(subset='train')\n",
    "    test = fetch_20newsgroups(subset='test')\n",
    "    print (train.target_names, br)\n",
    "    categories = ['rec.autos', 'rec.motorcycles',\n",
    "                  'sci.space', 'sci.med']\n",
    "    train = fetch_20newsgroups(subset='train',\n",
    "                               categories=categories)\n",
    "    test = fetch_20newsgroups(subset='test',\n",
    "                              categories=categories)\n",
    "    print ('data subset:')    \n",
    "    print (train.target.shape, 'shape of train data')\n",
    "    print (test.target.shape, 'shape of test data', br)\n",
    "    targets = train.target_names\n",
    "    mnb_clf = make_pipeline(TfidfVectorizer(), MultinomialNB())\n",
    "    print ('<<' + mnb_clf.__class__.__name__ + '>>', br)\n",
    "    mnb_clf.fit(train.data, train.target)\n",
    "    labels = mnb_clf.predict(test.data)\n",
    "    f1 = f1_score(test.target, labels, average='micro')\n",
    "    print ('f1_score', f1, br)\n",
    "    cm = confusion_matrix(test.target, labels)\n",
    "    plt.figure('confusion matrix')\n",
    "    sns.heatmap(cm.T, square=True, annot=True, fmt='d',\n",
    "                cmap='gist_ncar_r',\n",
    "                xticklabels=train.target_names,\n",
    "                yticklabels=train.target_names, cbar=False)\n",
    "    print ('sci.med predictions:')\n",
    "    print (cm.T[2][2], 'correct predictions')\n",
    "    print (cm.T[2][0], 'misclassified as rec.autos')\n",
    "    print (cm.T[2][3], 'misclassified as sci.space')\n",
    "    plt.xlabel('true label')\n",
    "    plt.ylabel('predicted label')\n",
    "    plt.tight_layout()\n",
    "    print ('\\n***PREDICTIONS***:')\n",
    "    y_pred = predict_category('payload on the mars rover',\n",
    "                              mnb_clf, targets)\n",
    "    print (y_pred)\n",
    "    y_pred = predict_category('car broke down on the highway',\n",
    "                              mnb_clf, targets)\n",
    "    print (y_pred)\n",
    "    y_pred = predict_category('dad died of cancer', mnb_clf,\n",
    "                              targets)\n",
    "    print (y_pred)\n",
    "    plt.show()"
   ]
  },
  {
   "cell_type": "code",
   "execution_count": null,
   "metadata": {},
   "outputs": [],
   "source": []
  }
 ],
 "metadata": {
  "kernelspec": {
   "display_name": "Python 3",
   "language": "python",
   "name": "python3"
  },
  "language_info": {
   "codemirror_mode": {
    "name": "ipython",
    "version": 3
   },
   "file_extension": ".py",
   "mimetype": "text/x-python",
   "name": "python",
   "nbconvert_exporter": "python",
   "pygments_lexer": "ipython3",
   "version": "3.7.4"
  }
 },
 "nbformat": 4,
 "nbformat_minor": 2
}
