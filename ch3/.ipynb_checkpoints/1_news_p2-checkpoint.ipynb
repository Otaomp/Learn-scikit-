{
 "cells": [
  {
   "cell_type": "code",
   "execution_count": 1,
   "metadata": {},
   "outputs": [],
   "source": [
    "from sklearn.datasets import fetch_20newsgroups\n",
    "from sklearn.feature_extraction.text import TfidfVectorizer\n",
    "from sklearn.naive_bayes import MultinomialNB\n",
    "from sklearn.pipeline import make_pipeline\n",
    "from sklearn.metrics import confusion_matrix, f1_score\n",
    "import matplotlib.pyplot as plt\n",
    "import seaborn as sns"
   ]
  },
  {
   "cell_type": "code",
   "execution_count": 4,
   "metadata": {},
   "outputs": [],
   "source": [
    "def predict_category(s, m, t):\n",
    "    pred = m.predict([s])\n",
    "    return t[pred[0]]"
   ]
  },
  {
   "cell_type": "code",
   "execution_count": 5,
   "metadata": {},
   "outputs": [],
   "source": [
    "train = fetch_20newsgroups(subset='train')\n",
    "test = fetch_20newsgroups(subset='test')\n"
   ]
  },
  {
   "cell_type": "code",
   "execution_count": 6,
   "metadata": {},
   "outputs": [],
   "source": [
    "categories = ['rec.autos', 'rec.motorcycles','sci.space', 'sci.med']\n",
    "train = fetch_20newsgroups(subset='train',categories=categories,\n",
    "                           remove=('headers', 'footers','quotes'))\n",
    "test = fetch_20newsgroups(subset='test',categories=categories,\n",
    "                          remove=('headers', 'footers','quotes'))"
   ]
  },
  {
   "cell_type": "code",
   "execution_count": 8,
   "metadata": {},
   "outputs": [
    {
     "name": "stdout",
     "output_type": "stream",
     "text": [
      "f1_score 0.8440656565656567\n"
     ]
    }
   ],
   "source": [
    "targets = train.target_names\n",
    "mnb_clf = make_pipeline(TfidfVectorizer(), MultinomialNB())\n",
    "mnb_clf.fit(train.data, train.target)\n",
    "labels = mnb_clf.predict(test.data)\n",
    "f1 = f1_score(test.target, labels, average='micro')\n",
    "print ('f1_score', f1)\n",
    "cm = confusion_matrix(test.target, labels)"
   ]
  },
  {
   "cell_type": "code",
   "execution_count": 9,
   "metadata": {},
   "outputs": [
    {
     "data": {
      "image/png": "[encoded data removed]",
      "text/plain": [
       "<Figure size 432x288 with 1 Axes>"
      ]
     },
     "metadata": {
      "needs_background": "light"
     },
     "output_type": "display_data"
    }
   ],
   "source": [
    "plt.figure('confusion matrix')\n",
    "sns.heatmap(cm.T, square=True, annot=True, fmt='d',cmap='gist_ncar_r',\n",
    "            xticklabels=train.target_names,yticklabels=train.target_names, cbar=False)\n",
    "plt.xlabel('true label')\n",
    "plt.ylabel('predicted label')\n",
    "plt.tight_layout()"
   ]
  },
  {
   "cell_type": "code",
   "execution_count": 10,
   "metadata": {},
   "outputs": [
    {
     "name": "stdout",
     "output_type": "stream",
     "text": [
      "***PREDICTIONS***:\n",
      "sci.space\n",
      "rec.autos\n",
      "sci.med\n"
     ]
    }
   ],
   "source": [
    "print ('***PREDICTIONS***:')\n",
    "y_pred = predict_category('payload on the mars rover',mnb_clf, targets)\n",
    "print (y_pred)\n",
    "y_pred = predict_category('car broke down on the highway',mnb_clf, targets)\n",
    "print (y_pred)\n",
    "y_pred = predict_category('dad died of cancer',mnb_clf, targets)\n",
    "print (y_pred)"
   ]
  },
  {
   "cell_type": "code",
   "execution_count": null,
   "metadata": {},
   "outputs": [],
   "source": []
  }
 ],
 "metadata": {
  "kernelspec": {
   "display_name": "Python 3",
   "language": "python",
   "name": "python3"
  },
  "language_info": {
   "codemirror_mode": {
    "name": "ipython",
    "version": 3
   },
   "file_extension": ".py",
   "mimetype": "text/x-python",
   "name": "python",
   "nbconvert_exporter": "python",
   "pygments_lexer": "ipython3",
   "version": "3.7.4"
  }
 },
 "nbformat": 4,
 "nbformat_minor": 2
}
