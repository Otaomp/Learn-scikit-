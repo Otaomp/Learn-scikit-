{
 "cells": [
  {
   "cell_type": "code",
   "execution_count": 1,
   "metadata": {},
   "outputs": [],
   "source": [
    "import numpy as np\n",
    "from sklearn.model_selection import train_test_split\n",
    "from sklearn.metrics import mean_squared_error\n",
    "from sklearn.ensemble import RandomForestRegressor as rfr,\\\n",
    "     AdaBoostRegressor as ada, GradientBoostingRegressor as gbr\n",
    "from sklearn.linear_model import LinearRegression as lr,\\\n",
    "     BayesianRidge as bay, Ridge as rr, Lasso as l,\\\n",
    "     LassoLars as ll, ElasticNet as en,\\\n",
    "     ARDRegression as ard, RidgeCV as rcv\n",
    "from sklearn.svm import SVR\n",
    "from sklearn.tree import DecisionTreeRegressor as dtr\n",
    "from sklearn.neighbors import KNeighborsRegressor as knn\n",
    "from sklearn.preprocessing import StandardScaler"
   ]
  },
  {
   "cell_type": "code",
   "execution_count": 2,
   "metadata": {},
   "outputs": [],
   "source": [
    "def get_error(model, Xtest, ytest):\n",
    "    y_pred = model.predict(Xtest)\n",
    "    return np.sqrt(mean_squared_error(ytest, y_pred)),model.__class__.__name__"
   ]
  },
  {
   "cell_type": "code",
   "execution_count": 3,
   "metadata": {},
   "outputs": [],
   "source": [
    "X = np.load('data/X_red.npy')\n",
    "y = np.load('data/y_red.npy')\n",
    "X_train, X_test, y_train, y_test = train_test_split(X, y, random_state=0)"
   ]
  },
  {
   "cell_type": "code",
   "execution_count": 4,
   "metadata": {},
   "outputs": [],
   "source": [
    "regressors = [lr(), bay(), rr(alpha=.5, random_state=0),\n",
    "              l(alpha=0.1, random_state=0), ll(), knn(),\n",
    "              ard(), rfr(random_state=0, n_estimators=10),\n",
    "              SVR(gamma='scale', kernel='rbf'), \n",
    "              rcv(fit_intercept=False), en(random_state=0),\n",
    "              dtr(random_state=0), ada(random_state=0),\n",
    "              gbr(random_state=0)]"
   ]
  },
  {
   "cell_type": "code",
   "execution_count": 5,
   "metadata": {},
   "outputs": [
    {
     "name": "stdout",
     "output_type": "stream",
     "text": [
      "unscaled:\n",
      "LinearRegression(rmse): 0.6325128671300334\n",
      "BayesianRidge(rmse): 0.6328209929688434\n",
      "Ridge(rmse): 0.6326849898919567\n",
      "Lasso(rmse): 0.6685741263275996\n",
      "LassoLars(rmse): 0.7821789633105511\n",
      "KNeighborsRegressor(rmse): 0.7280109889280517\n",
      "ARDRegression(rmse): 0.6400756305490781\n",
      "RandomForestRegressor(rmse): 0.626079068488957\n",
      "SVR(rmse): 0.7137359637679885\n",
      "RidgeCV(rmse): 0.6324998546518101\n",
      "ElasticNet(rmse): 0.7711443835889616\n",
      "DecisionTreeRegressor(rmse): 0.7632168761236874\n",
      "AdaBoostRegressor(rmse): 0.6435629587127757\n",
      "GradientBoostingRegressor(rmse): 0.6296130984511631\n"
     ]
    }
   ],
   "source": [
    "print ('unscaled:')\n",
    "for reg in regressors:\n",
    "    reg.fit(X_train, y_train)\n",
    "    rmse, name = get_error(reg, X_test, y_test)\n",
    "    name = reg.__class__.__name__\n",
    "    print (name + '(rmse):',rmse)"
   ]
  },
  {
   "cell_type": "code",
   "execution_count": 6,
   "metadata": {},
   "outputs": [
    {
     "name": "stdout",
     "output_type": "stream",
     "text": [
      "scaled:\n",
      "LinearRegression(rmse): 0.6336685221332286\n",
      "BayesianRidge(rmse): 0.633541175414439\n",
      "Ridge(rmse): 0.6336648958986739\n",
      "Lasso(rmse): 0.655937227882979\n",
      "LassoLars(rmse): 0.7821789633105511\n",
      "KNeighborsRegressor(rmse): 0.6897100840208152\n",
      "ARDRegression(rmse): 0.6351848608016393\n",
      "RandomForestRegressor(rmse): 0.6420475060305117\n",
      "SVR(rmse): 0.6183295652297023\n",
      "RidgeCV(rmse): 5.653065707475102\n",
      "ElasticNet(rmse): 0.7821789633105511\n",
      "DecisionTreeRegressor(rmse): 0.8631338250816034\n",
      "AdaBoostRegressor(rmse): 0.6467903814015876\n",
      "GradientBoostingRegressor(rmse): 0.6533241241243033\n"
     ]
    }
   ],
   "source": [
    "print ('scaled:')\n",
    "scaler = StandardScaler()\n",
    "X_train_std = scaler.fit_transform(X_train)\n",
    "X_test_std = scaler.fit_transform(X_test)\n",
    "for reg in regressors:\n",
    "    reg.fit(X_train_std, y_train)\n",
    "    rmse, name = get_error(reg, X_test_std, y_test)\n",
    "    name = reg.__class__.__name__\n",
    "    print (name + '(rmse):',rmse)"
   ]
  },
  {
   "cell_type": "code",
   "execution_count": null,
   "metadata": {},
   "outputs": [],
   "source": []
  }
 ],
 "metadata": {
  "kernelspec": {
   "display_name": "Python 3",
   "language": "python",
   "name": "python3"
  },
  "language_info": {
   "codemirror_mode": {
    "name": "ipython",
    "version": 3
   },
   "file_extension": ".py",
   "mimetype": "text/x-python",
   "name": "python",
   "nbconvert_exporter": "python",
   "pygments_lexer": "ipython3",
   "version": "3.7.4"
  }
 },
 "nbformat": 4,
 "nbformat_minor": 2
}
