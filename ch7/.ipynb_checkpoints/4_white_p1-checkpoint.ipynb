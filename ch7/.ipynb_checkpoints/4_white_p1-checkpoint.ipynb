{
 "cells": [
  {
   "cell_type": "code",
   "execution_count": 1,
   "metadata": {},
   "outputs": [],
   "source": [
    "import numpy as np\n",
    "from sklearn.model_selection import train_test_split\n",
    "from sklearn.metrics import mean_squared_error\n",
    "from sklearn.ensemble import RandomForestRegressor as rfr,\\\n",
    "     AdaBoostRegressor as ada, GradientBoostingRegressor as gbr\n",
    "from sklearn.linear_model import LinearRegression as lr,\\\n",
    "     BayesianRidge as bay, Ridge as rr, Lasso as l,\\\n",
    "     LassoLars as ll, ElasticNet as en,\\\n",
    "     ARDRegression as ard, RidgeCV as rcv\n",
    "from sklearn.svm import SVR\n",
    "from sklearn.tree import DecisionTreeRegressor as dtr\n",
    "from sklearn.neighbors import KNeighborsRegressor as knn\n",
    "from sklearn.preprocessing import StandardScaler"
   ]
  },
  {
   "cell_type": "code",
   "execution_count": 2,
   "metadata": {},
   "outputs": [],
   "source": [
    "def get_error(model, Xtest, ytest):\n",
    "    y_pred = model.predict(Xtest)\n",
    "    return np.sqrt(mean_squared_error(ytest, y_pred)),model.__class__.__name__"
   ]
  },
  {
   "cell_type": "code",
   "execution_count": 3,
   "metadata": {},
   "outputs": [],
   "source": [
    "X = np.load('data/X_white.npy')\n",
    "y = np.load('data/y_white.npy')\n",
    "X_train, X_test, y_train, y_test = train_test_split(X, y, random_state=0)"
   ]
  },
  {
   "cell_type": "code",
   "execution_count": 4,
   "metadata": {},
   "outputs": [],
   "source": [
    "regressors = [lr(), bay(), rr(alpha=.5, random_state=0),\n",
    "              l(alpha=0.1, random_state=0), ll(), knn(),\n",
    "              ard(), rfr(random_state=0, n_estimators=10),\n",
    "              SVR(gamma='scale', kernel='rbf'), \n",
    "              rcv(fit_intercept=False), en(random_state=0),\n",
    "              dtr(random_state=0), ada(random_state=0),\n",
    "              gbr(random_state=0)]"
   ]
  },
  {
   "cell_type": "code",
   "execution_count": 5,
   "metadata": {},
   "outputs": [
    {
     "name": "stdout",
     "output_type": "stream",
     "text": [
      "unscaled:\n",
      "LinearRegression(rmse): 0.7955515218420902\n",
      "BayesianRidge(rmse): 0.7960671860879414\n",
      "Ridge(rmse): 0.7959918979256687\n",
      "Lasso(rmse): 0.8337402482180647\n",
      "LassoLars(rmse): 0.9176196407505608\n",
      "KNeighborsRegressor(rmse): 0.863481325796916\n",
      "ARDRegression(rmse): 0.7917856544290739\n",
      "RandomForestRegressor(rmse): 0.6966098665124181\n",
      "SVR(rmse): 0.8482640826919192\n",
      "RidgeCV(rmse): 0.7963153609474138\n",
      "ElasticNet(rmse): 0.9010059098933324\n",
      "DecisionTreeRegressor(rmse): 0.8670851945996296\n",
      "AdaBoostRegressor(rmse): 0.7853090591509908\n",
      "GradientBoostingRegressor(rmse): 0.7341518238895893\n"
     ]
    }
   ],
   "source": [
    "print ('unscaled:')\n",
    "for reg in regressors:\n",
    "    reg.fit(X_train, y_train)\n",
    "    rmse, name = get_error(reg, X_test, y_test)\n",
    "    name = reg.__class__.__name__\n",
    "    print (name + '(rmse):',rmse)"
   ]
  },
  {
   "cell_type": "code",
   "execution_count": 6,
   "metadata": {},
   "outputs": [
    {
     "name": "stdout",
     "output_type": "stream",
     "text": [
      "scaled:\n",
      "LinearRegression(rmse): 0.795387506827426\n",
      "BayesianRidge(rmse): 0.7937076704188429\n",
      "Ridge(rmse): 0.7952785241294685\n",
      "Lasso(rmse): 0.8222698302453786\n",
      "LassoLars(rmse): 0.9176196407505608\n",
      "KNeighborsRegressor(rmse): 0.7592477480092666\n",
      "ARDRegression(rmse): 0.7945809310253796\n",
      "RandomForestRegressor(rmse): 0.7119905984245143\n",
      "SVR(rmse): 0.7338441268723941\n",
      "RidgeCV(rmse): 5.877903185343038\n",
      "ElasticNet(rmse): 0.9176196407505608\n",
      "DecisionTreeRegressor(rmse): 0.9249379460707797\n",
      "AdaBoostRegressor(rmse): 0.7910614790494706\n",
      "GradientBoostingRegressor(rmse): 0.743277636279255\n"
     ]
    }
   ],
   "source": [
    "print ('scaled:')\n",
    "scaler = StandardScaler()\n",
    "X_train_std = scaler.fit_transform(X_train)\n",
    "X_test_std = scaler.fit_transform(X_test)\n",
    "for reg in regressors:\n",
    "    reg.fit(X_train_std, y_train)\n",
    "    rmse, name = get_error(reg, X_test_std, y_test)\n",
    "    name = reg.__class__.__name__\n",
    "    print (name + '(rmse):',rmse)"
   ]
  },
  {
   "cell_type": "code",
   "execution_count": null,
   "metadata": {},
   "outputs": [],
   "source": []
  }
 ],
 "metadata": {
  "kernelspec": {
   "display_name": "Python 3",
   "language": "python",
   "name": "python3"
  },
  "language_info": {
   "codemirror_mode": {
    "name": "ipython",
    "version": 3
   },
   "file_extension": ".py",
   "mimetype": "text/x-python",
   "name": "python",
   "nbconvert_exporter": "python",
   "pygments_lexer": "ipython3",
   "version": "3.7.4"
  }
 },
 "nbformat": 4,
 "nbformat_minor": 2
}
