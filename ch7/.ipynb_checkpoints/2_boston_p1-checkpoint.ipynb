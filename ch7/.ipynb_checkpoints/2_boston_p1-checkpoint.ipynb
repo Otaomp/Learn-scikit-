{
 "cells": [
  {
   "cell_type": "code",
   "execution_count": 2,
   "metadata": {},
   "outputs": [],
   "source": [
    "import numpy as np\n",
    "from sklearn.model_selection import train_test_split\n",
    "from sklearn.metrics import mean_squared_error\n",
    "from sklearn.ensemble import RandomForestRegressor as rfr,\\\n",
    "     AdaBoostRegressor as ada, GradientBoostingRegressor as gbr\n",
    "from sklearn.linear_model import LinearRegression as lr,\\\n",
    "     BayesianRidge as bay, Ridge as rr, Lasso as l,\\\n",
    "     LassoLars as ll, ElasticNet as en,\\\n",
    "     ARDRegression as ard, RidgeCV as rcv\n",
    "from sklearn.svm import SVR\n",
    "from sklearn.tree import DecisionTreeRegressor as dtr\n",
    "from sklearn.neighbors import KNeighborsRegressor as knn\n",
    "from sklearn.preprocessing import StandardScaler"
   ]
  },
  {
   "cell_type": "code",
   "execution_count": 3,
   "metadata": {},
   "outputs": [],
   "source": [
    "def get_error(model, Xtest, ytest):\n",
    "    y_pred = model.predict(Xtest)\n",
    "    return np.sqrt(mean_squared_error(ytest, y_pred)),model.__class__.__name__"
   ]
  },
  {
   "cell_type": "code",
   "execution_count": 4,
   "metadata": {},
   "outputs": [],
   "source": [
    "X = np.load('data/X_boston.npy')\n",
    "y = np.load('data/y_boston.npy')\n",
    "X_train, X_test, y_train, y_test = train_test_split(X, y, random_state=0)"
   ]
  },
  {
   "cell_type": "code",
   "execution_count": 5,
   "metadata": {},
   "outputs": [],
   "source": [
    "regressors = [lr(), bay(), rr(alpha=.5, random_state=0),\n",
    "              l(alpha=0.1, random_state=0), ll(), knn(),\n",
    "              ard(), rfr(random_state=0, n_estimators=100),\n",
    "              SVR(gamma='scale', kernel='rbf'), \n",
    "              rcv(fit_intercept=False), en(random_state=0),\n",
    "              dtr(random_state=0), ada(random_state=0),\n",
    "              gbr(random_state=0)]"
   ]
  },
  {
   "cell_type": "code",
   "execution_count": 6,
   "metadata": {},
   "outputs": [
    {
     "name": "stdout",
     "output_type": "stream",
     "text": [
      "unscaled:\n",
      "LinearRegression(rmse): 4.2367105743872555\n",
      "BayesianRidge(rmse): 4.317931672041759\n",
      "Ridge(rmse): 4.243658717030716\n",
      "Lasso(rmse): 4.300740333025024\n",
      "LassoLars(rmse): 8.754893348840868\n",
      "KNeighborsRegressor(rmse): 5.9934937623789\n",
      "ARDRegression(rmse): 4.28415048500807\n",
      "RandomForestRegressor(rmse): 3.37169151536684\n",
      "SVR(rmse): 7.279521589512571\n",
      "RidgeCV(rmse): 4.392246393675596\n",
      "ElasticNet(rmse): 4.888448467452128\n",
      "DecisionTreeRegressor(rmse): 4.346328232622458\n",
      "AdaBoostRegressor(rmse): 3.652816906059683\n",
      "GradientBoostingRegressor(rmse): 3.1941117128039194\n"
     ]
    }
   ],
   "source": [
    "print ('unscaled:')\n",
    "for reg in regressors:\n",
    "    reg.fit(X_train, y_train)\n",
    "    rmse, name = get_error(reg, X_test, y_test)\n",
    "    name = reg.__class__.__name__\n",
    "    print (name + '(rmse):',rmse)"
   ]
  },
  {
   "cell_type": "code",
   "execution_count": 7,
   "metadata": {},
   "outputs": [
    {
     "name": "stdout",
     "output_type": "stream",
     "text": [
      "scaled:\n",
      "LinearRegression(rmse): 4.398269524691269\n",
      "BayesianRidge(rmse): 4.41954372797153\n",
      "Ridge(rmse): 4.400075160458177\n",
      "Lasso(rmse): 4.489952156682321\n",
      "LassoLars(rmse): 8.754893348840868\n",
      "KNeighborsRegressor(rmse): 4.757936288305807\n",
      "ARDRegression(rmse): 4.383622227159547\n",
      "RandomForestRegressor(rmse): 4.053037237125816\n",
      "SVR(rmse): 5.083294658978756\n",
      "RidgeCV(rmse): 22.347576364113266\n",
      "ElasticNet(rmse): 5.277752330669968\n",
      "DecisionTreeRegressor(rmse): 5.2796587719252726\n",
      "AdaBoostRegressor(rmse): 4.100148076529094\n",
      "GradientBoostingRegressor(rmse): 3.7490071027496015\n"
     ]
    }
   ],
   "source": [
    "print ('scaled:')\n",
    "scaler = StandardScaler()\n",
    "X_train_std = scaler.fit_transform(X_train)\n",
    "X_test_std = scaler.fit_transform(X_test)\n",
    "for reg in regressors:\n",
    "    reg.fit(X_train_std, y_train)\n",
    "    rmse, name = get_error(reg, X_test_std, y_test)\n",
    "    name = reg.__class__.__name__\n",
    "    print (name + '(rmse):',rmse)"
   ]
  },
  {
   "cell_type": "code",
   "execution_count": null,
   "metadata": {},
   "outputs": [],
   "source": []
  }
 ],
 "metadata": {
  "kernelspec": {
   "display_name": "Python 3",
   "language": "python",
   "name": "python3"
  },
  "language_info": {
   "codemirror_mode": {
    "name": "ipython",
    "version": 3
   },
   "file_extension": ".py",
   "mimetype": "text/x-python",
   "name": "python",
   "nbconvert_exporter": "python",
   "pygments_lexer": "ipython3",
   "version": "3.7.4"
  }
 },
 "nbformat": 4,
 "nbformat_minor": 2
}
