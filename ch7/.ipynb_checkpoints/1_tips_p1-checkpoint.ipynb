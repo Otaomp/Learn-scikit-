{
 "cells": [
  {
   "cell_type": "code",
   "execution_count": 1,
   "metadata": {},
   "outputs": [],
   "source": [
    "import numpy as np\n",
    "from sklearn.model_selection import train_test_split\n",
    "from sklearn.metrics import mean_squared_error\n",
    "from sklearn.ensemble import RandomForestRegressor as rfr,\\\n",
    "     AdaBoostRegressor as ada, GradientBoostingRegressor as gbr\n",
    "from sklearn.linear_model import LinearRegression as lr,\\\n",
    "     BayesianRidge as bay, Ridge as rr, Lasso as l,\\\n",
    "     LassoLars as ll, ElasticNet as en,\\\n",
    "     ARDRegression as ard, RidgeCV as rcv\n",
    "from sklearn.svm import SVR\n",
    "from sklearn.tree import DecisionTreeRegressor as dtr\n",
    "from sklearn.neighbors import KNeighborsRegressor as knn\n",
    "from sklearn.preprocessing import StandardScaler\n"
   ]
  },
  {
   "cell_type": "code",
   "execution_count": 2,
   "metadata": {},
   "outputs": [],
   "source": [
    "def get_error(model, Xtest, ytest):\n",
    "    y_pred = model.predict(Xtest)\n",
    "    return np.sqrt(mean_squared_error(ytest, y_pred)),model.__class__.__name__"
   ]
  },
  {
   "cell_type": "code",
   "execution_count": 3,
   "metadata": {},
   "outputs": [],
   "source": [
    "X = np.load('data/X_tips.npy')\n",
    "y = np.load('data/y_tips.npy')\n",
    "X_train, X_test, y_train, y_test = train_test_split(X, y, random_state=0)"
   ]
  },
  {
   "cell_type": "code",
   "execution_count": 4,
   "metadata": {},
   "outputs": [],
   "source": [
    "regressors = [lr(), bay(), rr(alpha=.5, random_state=0),\n",
    "              l(alpha=0.1, random_state=0), ll(), knn(),\n",
    "              ard(), rfr(random_state=0, n_estimators=100),\n",
    "              SVR(gamma='scale', kernel='rbf'), \n",
    "              rcv(fit_intercept=False), en(random_state=0),\n",
    "              dtr(random_state=0), ada(random_state=0),\n",
    "              gbr(random_state=0)]"
   ]
  },
  {
   "cell_type": "code",
   "execution_count": 5,
   "metadata": {},
   "outputs": [
    {
     "name": "stdout",
     "output_type": "stream",
     "text": [
      "unscaled:\n",
      "LinearRegression(rmse): 0.9474705746817211\n",
      "BayesianRidge(rmse): 0.9245217159811321\n",
      "Ridge(rmse): 0.9471900902779102\n",
      "Lasso(rmse): 0.9158574785712037\n",
      "LassoLars(rmse): 1.333812899498391\n",
      "KNeighborsRegressor(rmse): 1.086204460049883\n",
      "ARDRegression(rmse): 0.9264801346401472\n",
      "RandomForestRegressor(rmse): 0.8850975551298138\n",
      "SVR(rmse): 0.9437629655386353\n",
      "RidgeCV(rmse): 0.9426372075891951\n",
      "ElasticNet(rmse): 0.9307377813721576\n",
      "DecisionTreeRegressor(rmse): 1.2994272932036561\n",
      "AdaBoostRegressor(rmse): 0.932681302158466\n",
      "GradientBoostingRegressor(rmse): 0.9112440690311495\n"
     ]
    }
   ],
   "source": [
    "print ('unscaled:')\n",
    "for reg in regressors:\n",
    "    reg.fit(X_train, y_train)\n",
    "    rmse, name = get_error(reg, X_test, y_test)\n",
    "    name = reg.__class__.__name__\n",
    "    print (name + '(rmse):',rmse)"
   ]
  },
  {
   "cell_type": "code",
   "execution_count": 7,
   "metadata": {},
   "outputs": [
    {
     "name": "stdout",
     "output_type": "stream",
     "text": [
      "scaled:\n",
      "LinearRegression(rmse): 0.900775117788149\n",
      "BayesianRidge(rmse): 0.9096823844243739\n",
      "Ridge(rmse): 0.9010890080377258\n",
      "Lasso(rmse): 0.8785977911833893\n",
      "LassoLars(rmse): 1.333812899498391\n",
      "KNeighborsRegressor(rmse): 0.9613578099280607\n",
      "ARDRegression(rmse): 0.8745960871429688\n",
      "RandomForestRegressor(rmse): 0.893772251516372\n",
      "SVR(rmse): 0.9749204385201589\n",
      "RidgeCV(rmse): 3.1960055364135647\n",
      "ElasticNet(rmse): 1.1310151423347359\n",
      "DecisionTreeRegressor(rmse): 1.1835900827021861\n",
      "AdaBoostRegressor(rmse): 0.986987944835978\n",
      "GradientBoostingRegressor(rmse): 0.8908489427010696\n"
     ]
    }
   ],
   "source": [
    "print ('scaled:')\n",
    "scaler = StandardScaler()\n",
    "X_train_std = scaler.fit_transform(X_train)\n",
    "X_test_std = scaler.fit_transform(X_test)\n",
    "for reg in regressors:\n",
    "    reg.fit(X_train_std, y_train)\n",
    "    rmse, name = get_error(reg, X_test_std, y_test)\n",
    "    name = reg.__class__.__name__\n",
    "    print (name + '(rmse):',rmse)"
   ]
  },
  {
   "cell_type": "code",
   "execution_count": null,
   "metadata": {},
   "outputs": [],
   "source": []
  }
 ],
 "metadata": {
  "kernelspec": {
   "display_name": "Python 3",
   "language": "python",
   "name": "python3"
  },
  "language_info": {
   "codemirror_mode": {
    "name": "ipython",
    "version": 3
   },
   "file_extension": ".py",
   "mimetype": "text/x-python",
   "name": "python",
   "nbconvert_exporter": "python",
   "pygments_lexer": "ipython3",
   "version": "3.7.4"
  }
 },
 "nbformat": 4,
 "nbformat_minor": 2
}
