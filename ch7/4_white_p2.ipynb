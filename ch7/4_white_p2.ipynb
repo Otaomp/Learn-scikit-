{
 "cells": [
  {
   "cell_type": "code",
   "execution_count": 1,
   "metadata": {},
   "outputs": [],
   "source": [
    "import numpy as np, humanfriendly as hf\n",
    "import time\n",
    "from sklearn.model_selection import train_test_split\n",
    "from sklearn.ensemble import RandomForestRegressor\n",
    "from sklearn.model_selection import GridSearchCV,\\\n",
    "     cross_val_score\n",
    "from sklearn.metrics import mean_squared_error"
   ]
  },
  {
   "cell_type": "code",
   "execution_count": 9,
   "metadata": {},
   "outputs": [],
   "source": [
    "def get_error(model, Xtest, ytest):\n",
    "    y_pred = model.predict(Xtest)\n",
    "    return np.sqrt(mean_squared_error(ytest, y_pred)),model.__class__.__name__"
   ]
  },
  {
   "cell_type": "code",
   "execution_count": 10,
   "metadata": {},
   "outputs": [],
   "source": [
    "def see_time(note,start):\n",
    "    end = time.perf_counter()\n",
    "    elapsed = end - start\n",
    "    print (note,hf.format_timespan(elapsed, detailed=True))"
   ]
  },
  {
   "cell_type": "code",
   "execution_count": 11,
   "metadata": {},
   "outputs": [],
   "source": [
    "def get_cross(model, data, target, groups=10):\n",
    "    return cross_val_score(model, data, target, cv=groups,scoring='neg_mean_squared_error')"
   ]
  },
  {
   "cell_type": "code",
   "execution_count": 12,
   "metadata": {},
   "outputs": [],
   "source": [
    "X = np.load('data/X_white.npy')\n",
    "y = np.load('data/y_white.npy')\n",
    "X_train, X_test, y_train, y_test = train_test_split(X, y, random_state=0)"
   ]
  },
  {
   "cell_type": "code",
   "execution_count": 13,
   "metadata": {},
   "outputs": [
    {
     "name": "stdout",
     "output_type": "stream",
     "text": [
      "RandomForestRegressor(rmse): 0.6966098665124181\n"
     ]
    }
   ],
   "source": [
    "rfr_model = RandomForestRegressor(random_state=0, n_estimators=10)\n",
    "rfr_model.fit(X_train, y_train)\n",
    "rmse, rfr_model_name = get_error(rfr_model, X_test, y_test)\n",
    "print (rfr_model_name + '(rmse):',rmse)"
   ]
  },
  {
   "cell_type": "code",
   "execution_count": 14,
   "metadata": {},
   "outputs": [
    {
     "name": "stdout",
     "output_type": "stream",
     "text": [
      "Fitting 5 folds for each of 4 candidates, totalling 20 fits\n"
     ]
    },
    {
     "name": "stderr",
     "output_type": "stream",
     "text": [
      "[Parallel(n_jobs=-1)]: Using backend LokyBackend with 4 concurrent workers.\n",
      "[Parallel(n_jobs=-1)]: Done  20 out of  20 | elapsed:   39.2s finished\n"
     ]
    },
    {
     "name": "stdout",
     "output_type": "stream",
     "text": [
      "training time: 50 seconds, 139 milliseconds, 491 microseconds and 700 nanoseconds\n",
      "{'bootstrap': True, 'n_estimators': 500}\n"
     ]
    }
   ],
   "source": [
    "n_est = [100, 500]\n",
    "boot = [True, False]\n",
    "params = {'n_estimators': n_est, 'bootstrap': boot}\n",
    "grid = GridSearchCV(rfr_model, params, cv=5, n_jobs=-1,verbose=1)\n",
    "start = time.perf_counter()\n",
    "grid.fit(X_train, y_train)\n",
    "see_time('training time:',start)\n",
    "bp = grid.best_params_\n",
    "print (bp)"
   ]
  },
  {
   "cell_type": "code",
   "execution_count": 15,
   "metadata": {},
   "outputs": [
    {
     "name": "stdout",
     "output_type": "stream",
     "text": [
      "RandomForestRegressor(rmse): 0.6728175517621279\n"
     ]
    }
   ],
   "source": [
    "rfr_bpmodel= RandomForestRegressor(**bp, random_state=0)\n",
    "rfr_bpmodel.fit(X_train, y_train)\n",
    "rmse, rfr_bpmodel_name = get_error(rfr_bpmodel, X_test, y_test)\n",
    "print (rfr_bpmodel_name + '(rmse):',rmse)"
   ]
  },
  {
   "cell_type": "code",
   "execution_count": 18,
   "metadata": {},
   "outputs": [
    {
     "name": "stdout",
     "output_type": "stream",
     "text": [
      "cross-validation rmse: 2 minutes, 1 second, 304 milliseconds, 476 microseconds and 200 nanoseconds\n",
      "0.7183073387927801\n"
     ]
    }
   ],
   "source": [
    "start = time.perf_counter()\n",
    "scores = get_cross(rfr_bpmodel, X, y)\n",
    "see_time('cross-validation rmse:',start)\n",
    "rmse = np.sqrt(np.mean(scores) * -1)\n",
    "print (rmse)"
   ]
  },
  {
   "cell_type": "code",
   "execution_count": null,
   "metadata": {},
   "outputs": [],
   "source": []
  }
 ],
 "metadata": {
  "kernelspec": {
   "display_name": "Python 3",
   "language": "python",
   "name": "python3"
  },
  "language_info": {
   "codemirror_mode": {
    "name": "ipython",
    "version": 3
   },
   "file_extension": ".py",
   "mimetype": "text/x-python",
   "name": "python",
   "nbconvert_exporter": "python",
   "pygments_lexer": "ipython3",
   "version": "3.7.4"
  }
 },
 "nbformat": 4,
 "nbformat_minor": 2
}
