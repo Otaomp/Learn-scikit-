{
 "cells": [
  {
   "cell_type": "code",
   "execution_count": 1,
   "metadata": {},
   "outputs": [],
   "source": [
    "import numpy as np, humanfriendly as hf\n",
    "import time\n",
    "from sklearn.preprocessing import StandardScaler\n",
    "from sklearn.model_selection import train_test_split\n",
    "from sklearn.linear_model import ARDRegression\n",
    "from sklearn.model_selection import GridSearchCV,cross_val_score\n",
    "from sklearn.metrics import mean_squared_error\n"
   ]
  },
  {
   "cell_type": "code",
   "execution_count": 2,
   "metadata": {},
   "outputs": [],
   "source": [
    "def get_error(model, Xtest, ytest):\n",
    "    y_pred = model.predict(Xtest)\n",
    "    return np.sqrt(mean_squared_error(ytest, y_pred)),model.__class__.__name__"
   ]
  },
  {
   "cell_type": "code",
   "execution_count": 3,
   "metadata": {},
   "outputs": [],
   "source": [
    "def see_time(note,start):\n",
    "    end = time.perf_counter()\n",
    "    elapsed = end - start\n",
    "    print (note,hf.format_timespan(elapsed, detailed=True))"
   ]
  },
  {
   "cell_type": "code",
   "execution_count": 4,
   "metadata": {},
   "outputs": [],
   "source": [
    "def get_cross(model, data, target, groups=10):\n",
    "    return cross_val_score(model, data, target, cv=groups,scoring='neg_mean_squared_error')"
   ]
  },
  {
   "cell_type": "code",
   "execution_count": 5,
   "metadata": {},
   "outputs": [],
   "source": [
    "X = np.load('data/X_tips.npy')\n",
    "y = np.load('data/y_tips.npy')\n",
    "X_train, X_test, y_train, y_test = train_test_split(X, y, random_state=0)"
   ]
  },
  {
   "cell_type": "code",
   "execution_count": 6,
   "metadata": {},
   "outputs": [
    {
     "name": "stdout",
     "output_type": "stream",
     "text": [
      "ARDRegression(rmse): 0.8745960871429688\n"
     ]
    }
   ],
   "source": [
    "scaler = StandardScaler()\n",
    "X_train_std = scaler.fit_transform(X_train)\n",
    "X_test_std = scaler.fit_transform(X_test)\n",
    "ard_model = ARDRegression().fit(X_train_std, y_train)\n",
    "rmse, ard_model_name = get_error(ard_model, X_test_std, y_test)\n",
    "print (ard_model_name + '(rmse):',rmse)"
   ]
  },
  {
   "cell_type": "code",
   "execution_count": 8,
   "metadata": {},
   "outputs": [
    {
     "name": "stdout",
     "output_type": "stream",
     "text": [
      "Fitting 5 folds for each of 4 candidates, totalling 20 fits\n"
     ]
    },
    {
     "name": "stderr",
     "output_type": "stream",
     "text": [
      "[Parallel(n_jobs=-1)]: Using backend LokyBackend with 4 concurrent workers.\n"
     ]
    },
    {
     "name": "stdout",
     "output_type": "stream",
     "text": [
      "training time: 2 seconds, 206 milliseconds, 192 microseconds and 400 nanoseconds\n",
      "{'alpha_1': 10000.0, 'alpha_2': 100000.0, 'n_iter': 50}\n"
     ]
    },
    {
     "name": "stderr",
     "output_type": "stream",
     "text": [
      "[Parallel(n_jobs=-1)]: Done  20 out of  20 | elapsed:    2.0s finished\n"
     ]
    }
   ],
   "source": [
    "iters = [50]\n",
    "a1 = [1e5, 1e4]\n",
    "a2 = [1e5, 1e4]\n",
    "params = {'n_iter': iters, 'alpha_1': a1, 'alpha_2': a2}\n",
    "grid = GridSearchCV(ard_model, params, cv=5, n_jobs=-1, verbose=1)\n",
    "start = time.perf_counter()\n",
    "grid.fit(X_train, y_train)\n",
    "see_time('training time:',start)\n",
    "bp = grid.best_params_\n",
    "print (bp)"
   ]
  },
  {
   "cell_type": "code",
   "execution_count": 10,
   "metadata": {},
   "outputs": [
    {
     "name": "stdout",
     "output_type": "stream",
     "text": [
      "ARDRegression(rmse): 0.8645625277607759\n"
     ]
    }
   ],
   "source": [
    "ard_bpmodel = ARDRegression(**bp).fit(X_train_std, y_train)\n",
    "rmse, ard_bpmodel_name = get_error(ard_bpmodel, X_test_std, y_test)\n",
    "print (ard_bpmodel_name + '(rmse):',rmse)"
   ]
  },
  {
   "cell_type": "code",
   "execution_count": 12,
   "metadata": {},
   "outputs": [
    {
     "name": "stdout",
     "output_type": "stream",
     "text": [
      "cross-validation rmse: 1 second, 758 milliseconds, 122 microseconds and 100 nanoseconds\n",
      "1.0376527153702295\n"
     ]
    }
   ],
   "source": [
    "start = time.perf_counter()\n",
    "scores = get_cross(ard_bpmodel, X, y)\n",
    "see_time('cross-validation rmse:',start)\n",
    "rmse = np.sqrt(np.mean(scores) * -1)\n",
    "print (rmse)"
   ]
  },
  {
   "cell_type": "code",
   "execution_count": null,
   "metadata": {},
   "outputs": [],
   "source": []
  }
 ],
 "metadata": {
  "kernelspec": {
   "display_name": "Python 3",
   "language": "python",
   "name": "python3"
  },
  "language_info": {
   "codemirror_mode": {
    "name": "ipython",
    "version": 3
   },
   "file_extension": ".py",
   "mimetype": "text/x-python",
   "name": "python",
   "nbconvert_exporter": "python",
   "pygments_lexer": "ipython3",
   "version": "3.7.4"
  }
 },
 "nbformat": 4,
 "nbformat_minor": 2
}
