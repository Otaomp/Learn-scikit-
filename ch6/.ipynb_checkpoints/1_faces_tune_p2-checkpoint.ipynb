{
 "cells": [
  {
   "cell_type": "code",
   "execution_count": 1,
   "metadata": {},
   "outputs": [],
   "source": [
    "import numpy as np, humanfriendly as hf\n",
    "import time\n",
    "from sklearn.decomposition import PCA\n",
    "from sklearn.model_selection import train_test_split,GridSearchCV, cross_val_score\n",
    "from sklearn.svm import SVC\n",
    "from sklearn.metrics import classification_report\n",
    "import matplotlib.pyplot as plt"
   ]
  },
  {
   "cell_type": "code",
   "execution_count": 12,
   "metadata": {},
   "outputs": [],
   "source": [
    "def see_time(note,start):\n",
    "    end = time.perf_counter()\n",
    "    elapsed = end - start\n",
    "    print (note,hf.format_timespan(elapsed, detailed=True))"
   ]
  },
  {
   "cell_type": "code",
   "execution_count": 3,
   "metadata": {},
   "outputs": [],
   "source": [
    "def get_cross(model, data, target, groups=10):\n",
    "    return cross_val_score(model, data, target, cv=groups)"
   ]
  },
  {
   "cell_type": "code",
   "execution_count": 4,
   "metadata": {},
   "outputs": [],
   "source": [
    "X = np.load('data/X_faces.npy')\n",
    "y = np.load('data/y_faces.npy')\n",
    "images = np.load('data/faces_images.npy')\n",
    "targets = np.load('data/faces_targets.npy')"
   ]
  },
  {
   "cell_type": "code",
   "execution_count": 6,
   "metadata": {},
   "outputs": [],
   "source": [
    "_, h, w = images.shape\n",
    "n_images, n_features, n_classes = X.shape[0], X.shape[1],len(targets)\n",
    "X_train, X_test, y_train, y_test = train_test_split(X, y, random_state=0)"
   ]
  },
  {
   "cell_type": "code",
   "execution_count": 8,
   "metadata": {},
   "outputs": [
    {
     "name": "stdout",
     "output_type": "stream",
     "text": [
      "PCAfeatures (before PCA): 1850 features (after PCA): 135\n"
     ]
    }
   ],
   "source": [
    "pca = PCA(n_components=0.95, whiten=True, random_state=0)\n",
    "pca_name = pca.__class__.__name__\n",
    "pca.fit(X_train)\n",
    "components = pca.n_components_\n",
    "eigenfaces = pca.components_.reshape((components, h, w))\n",
    "X_train_pca = pca.transform(X_train)\n",
    "print (pca_name + 'features (before PCA):', n_features,'features (after PCA):', components)"
   ]
  },
  {
   "cell_type": "code",
   "execution_count": 9,
   "metadata": {},
   "outputs": [
    {
     "data": {
      "image/png": "[encoded data removed]",
      "text/plain": [
       "<Figure size 432x288 with 1 Axes>"
      ]
     },
     "metadata": {
      "needs_background": "light"
     },
     "output_type": "display_data"
    }
   ],
   "source": [
    "X_i = np.array(eigenfaces[0].reshape(h, w))\n",
    "fig = plt.figure('eigenface')\n",
    "ax = fig.subplots()\n",
    "image = ax.imshow(X_i, cmap='bone')"
   ]
  },
  {
   "cell_type": "code",
   "execution_count": 11,
   "metadata": {},
   "outputs": [
    {
     "name": "stdout",
     "output_type": "stream",
     "text": [
      "              precision    recall  f1-score   support\n",
      "\n",
      "           0       1.00      0.43      0.60        28\n",
      "           1       0.83      0.87      0.85        63\n",
      "           2       0.94      0.62      0.75        24\n",
      "           3       0.71      0.97      0.82       132\n",
      "           4       1.00      0.70      0.82        20\n",
      "           5       1.00      0.36      0.53        22\n",
      "           6       0.96      0.73      0.83        33\n",
      "\n",
      "    accuracy                           0.80       322\n",
      "   macro avg       0.92      0.67      0.74       322\n",
      "weighted avg       0.84      0.80      0.78       322\n",
      "\n"
     ]
    }
   ],
   "source": [
    "svm_model = SVC(random_state=0, gamma='scale')\n",
    "svm_model_name = svm_model.__class__.__name__   \n",
    "svm_model.fit(X_train_pca, y_train)\n",
    "X_test_pca = pca.transform(X_test)\n",
    "y_pred = svm_model.predict(X_test_pca)\n",
    "cr = classification_report(y_test, y_pred)\n",
    "print (cr)"
   ]
  },
  {
   "cell_type": "code",
   "execution_count": 14,
   "metadata": {},
   "outputs": [
    {
     "name": "stdout",
     "output_type": "stream",
     "text": [
      "training time: 11 seconds, 538 milliseconds, 690 microseconds and 100 nanoseconds\n",
      "best parameters: {'C': 100.0, 'class_weight': 'balanced', 'gamma': 0.005, 'kernel': 'rbf'}\n"
     ]
    }
   ],
   "source": [
    "param_grid = {'C': [1e2, 1e3, 5e3],\n",
    "              'gamma': [0.001, 0.005, 0.01, 0.1],\n",
    "              'kernel': ['rbf'],\n",
    "              'class_weight': ['balanced']}\n",
    "grid = GridSearchCV(svm_model, param_grid, cv=5)\n",
    "start = time.perf_counter()\n",
    "grid.fit(X_train_pca, y_train)\n",
    "see_time('training time:',start)\n",
    "bp = grid.best_params_\n",
    "print ('best parameters:',bp)"
   ]
  },
  {
   "cell_type": "code",
   "execution_count": 15,
   "metadata": {},
   "outputs": [
    {
     "name": "stdout",
     "output_type": "stream",
     "text": [
      "              precision    recall  f1-score   support\n",
      "\n",
      "           0       1.00      0.64      0.78        28\n",
      "           1       0.76      0.92      0.83        63\n",
      "           2       0.91      0.88      0.89        24\n",
      "           3       0.88      0.92      0.90       132\n",
      "           4       0.74      0.85      0.79        20\n",
      "           5       1.00      0.64      0.78        22\n",
      "           6       0.90      0.85      0.88        33\n",
      "\n",
      "    accuracy                           0.86       322\n",
      "   macro avg       0.89      0.81      0.84       322\n",
      "weighted avg       0.87      0.86      0.86       322\n",
      "\n"
     ]
    }
   ],
   "source": [
    "svm_model = SVC(**bp)\n",
    "svm_model.fit(X_train_pca, y_train)\n",
    "y_pred = svm_model.predict(X_test_pca)\n",
    "cr = classification_report(y_test, y_pred)\n",
    "print (cr)"
   ]
  },
  {
   "cell_type": "code",
   "execution_count": 17,
   "metadata": {},
   "outputs": [
    {
     "name": "stdout",
     "output_type": "stream",
     "text": [
      "cross-validation: 0.8393624737627647\n"
     ]
    }
   ],
   "source": [
    "scores = get_cross(svm_model, X_train_pca, y_train)\n",
    "print ('cross-validation:',np.mean(scores))"
   ]
  },
  {
   "cell_type": "code",
   "execution_count": 18,
   "metadata": {},
   "outputs": [],
   "source": [
    "file = 'data/bp_face'\n",
    "np.save(file, bp)"
   ]
  },
  {
   "cell_type": "code",
   "execution_count": 19,
   "metadata": {},
   "outputs": [
    {
     "name": "stdout",
     "output_type": "stream",
     "text": [
      "best parameters: {'C': 100.0, 'class_weight': 'balanced', 'gamma': 0.005, 'kernel': 'rbf'}\n"
     ]
    }
   ],
   "source": [
    "# 查看\n",
    "bp = np.load('data/bp_face.npy', allow_pickle=True)\n",
    "bp = bp.tolist()\n",
    "print ('best parameters:',bp)"
   ]
  },
  {
   "cell_type": "code",
   "execution_count": null,
   "metadata": {},
   "outputs": [],
   "source": []
  }
 ],
 "metadata": {
  "kernelspec": {
   "display_name": "Python 3",
   "language": "python",
   "name": "python3"
  },
  "language_info": {
   "codemirror_mode": {
    "name": "ipython",
    "version": 3
   },
   "file_extension": ".py",
   "mimetype": "text/x-python",
   "name": "python",
   "nbconvert_exporter": "python",
   "pygments_lexer": "ipython3",
   "version": "3.7.4"
  }
 },
 "nbformat": 4,
 "nbformat_minor": 2
}
