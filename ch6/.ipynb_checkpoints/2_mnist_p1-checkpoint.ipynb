{
 "cells": [
  {
   "cell_type": "code",
   "execution_count": 1,
   "metadata": {},
   "outputs": [],
   "source": [
    "import numpy as np, humanfriendly as hf, random\n",
    "import time\n",
    "from sklearn.model_selection import train_test_split\n",
    "from sklearn.model_selection import RandomizedSearchCV,cross_val_score\n",
    "from sklearn.ensemble import RandomForestClassifier,ExtraTreesClassifier"
   ]
  },
  {
   "cell_type": "code",
   "execution_count": 2,
   "metadata": {},
   "outputs": [],
   "source": [
    "def get_scores(model, xtrain, ytrain, xtest, ytest):\n",
    "    ypred = model.predict(xtest)\n",
    "    train = model.score(xtrain, ytrain)\n",
    "    test = model.score(xtest, y_test)\n",
    "    name = model.__class__.__name__\n",
    "    return (name, train, test)"
   ]
  },
  {
   "cell_type": "code",
   "execution_count": 3,
   "metadata": {},
   "outputs": [],
   "source": [
    "def get_cross(model, data, target, groups=10):\n",
    "    return cross_val_score(model, data, target, cv=groups)"
   ]
  },
  {
   "cell_type": "code",
   "execution_count": 4,
   "metadata": {},
   "outputs": [],
   "source": [
    "def prep_data(data, target):\n",
    "    d = [data[i] for i, _ in enumerate(data)]\n",
    "    t = [target[i] for i, _ in enumerate(target)]\n",
    "    return list(zip(d, t))"
   ]
  },
  {
   "cell_type": "code",
   "execution_count": 5,
   "metadata": {},
   "outputs": [],
   "source": [
    "def create_sample(d, n, replace='yes'):\n",
    "    if replace == 'yes': \n",
    "        s = random.sample(d, n)\n",
    "    else: \n",
    "        s = [random.choice(d) for i, _ in enumerate(d) if i < n]\n",
    "    Xs = [row[0] for i, row in enumerate(s)]\n",
    "    ys = [row[1] for i, row in enumerate(s)]\n",
    "    return np.array(Xs), np.array(ys)"
   ]
  },
  {
   "cell_type": "code",
   "execution_count": 6,
   "metadata": {},
   "outputs": [],
   "source": [
    "def see_time(note,start):\n",
    "    end = time.perf_counter()\n",
    "    elapsed = end - start\n",
    "    print (note,hf.format_timespan(elapsed, detailed=True))"
   ]
  },
  {
   "cell_type": "code",
   "execution_count": 7,
   "metadata": {},
   "outputs": [],
   "source": [
    "X_file = 'data/X_mnist'\n",
    "y_file = 'data/y_mnist'\n",
    "X = np.load('data/X_mnist.npy')\n",
    "y = np.load('data/y_mnist.npy')"
   ]
  },
  {
   "cell_type": "code",
   "execution_count": 8,
   "metadata": {},
   "outputs": [
    {
     "data": {
      "text/plain": [
       "array([[0., 0., 0., ..., 0., 0., 0.],\n",
       "       [0., 0., 0., ..., 0., 0., 0.],\n",
       "       [0., 0., 0., ..., 0., 0., 0.],\n",
       "       ...,\n",
       "       [0., 0., 0., ..., 0., 0., 0.],\n",
       "       [0., 0., 0., ..., 0., 0., 0.],\n",
       "       [0., 0., 0., ..., 0., 0., 0.]], dtype=float32)"
      ]
     },
     "execution_count": 8,
     "metadata": {},
     "output_type": "execute_result"
    }
   ],
   "source": [
    "X = X.astype(np.float32)\n",
    "data = prep_data(X, y)\n",
    "sample_size = 7000\n",
    "Xs, ys = create_sample(data, sample_size)\n",
    "Xs"
   ]
  },
  {
   "cell_type": "code",
   "execution_count": 9,
   "metadata": {},
   "outputs": [
    {
     "name": "stdout",
     "output_type": "stream",
     "text": [
      "RandomizedSearchCV total tuning time: 17 seconds, 609 milliseconds, 806 microseconds and 800 nanoseconds\n",
      "{'max_depth': 30, 'class_weight': 'balanced'}\n"
     ]
    }
   ],
   "source": [
    "# 找到最优参数\n",
    "rf_model = RandomForestClassifier(random_state=0,n_estimators=100)\n",
    "params = {'class_weight': ['balanced'],'max_depth': [10, 30]}\n",
    "random = RandomizedSearchCV(rf_model, param_distributions = params,cv=3, n_iter=2, random_state=0)\n",
    "start = time.perf_counter()\n",
    "random.fit(Xs, ys)\n",
    "see_time('RandomizedSearchCV total tuning time:',start)\n",
    "bp = random.best_params_\n",
    "print (bp)"
   ]
  },
  {
   "cell_type": "code",
   "execution_count": 10,
   "metadata": {},
   "outputs": [
    {
     "name": "stdout",
     "output_type": "stream",
     "text": [
      "total time: 42 seconds, 786 milliseconds, 835 microseconds and 300 nanoseconds\n",
      "RandomForestClassifiertrain: 0.9999809523809524 test_score: 0.9701142857142857\n"
     ]
    }
   ],
   "source": [
    "# 以最优参数训练\n",
    "X_train, X_test, y_train, y_test = train_test_split(X, y, random_state=0)\n",
    "rf = RandomForestClassifier(**bp, random_state=0,n_estimators=100)\n",
    "start = time.perf_counter()\n",
    "rf.fit(X_train, y_train)\n",
    "rf_scores = get_scores(rf, X_train, y_train,X_test, y_test)\n",
    "see_time('total time:',start)\n",
    "print (rf_scores[0] + 'train:',rf_scores[1], 'test_score:',rf_scores[2])"
   ]
  },
  {
   "cell_type": "code",
   "execution_count": 11,
   "metadata": {},
   "outputs": [
    {
     "name": "stdout",
     "output_type": "stream",
     "text": [
      "RandomizedSearchCV total tuning time: 28 seconds, 394 milliseconds, 547 microseconds and 600 nanoseconds\n",
      "{'max_depth': 30, 'class_weight': 'balanced'}\n"
     ]
    }
   ],
   "source": [
    "# 找打最优参数\n",
    "et = ExtraTreesClassifier(random_state=0, n_estimators=200)\n",
    "params = {'class_weight': ['balanced'],'max_depth': [10, 30]}\n",
    "random = RandomizedSearchCV(et, param_distributions = params,cv=3, n_iter=2, random_state=0)\n",
    "start = time.perf_counter()\n",
    "random.fit(Xs, ys)\n",
    "see_time('RandomizedSearchCV total tuning time:',start)\n",
    "bp = random.best_params_\n",
    "print (bp)"
   ]
  },
  {
   "cell_type": "code",
   "execution_count": null,
   "metadata": {},
   "outputs": [],
   "source": [
    "X_train, X_test, y_train, y_test = train_test_split(X, y, random_state=0)\n",
    "et = ExtraTreesClassifier(**bp, random_state=0,n_estimators=200)\n",
    "start = time.perf_counter()\n",
    "et.fit(X_train, y_train)\n",
    "et_scores = get_scores(et, X_train, y_train,X_test, y_test)\n",
    "see_time('total time:',start)\n",
    "print (et_scores[0] + 'train:',et_scores[1],'test_score:',et_scores[2])"
   ]
  },
  {
   "cell_type": "code",
   "execution_count": null,
   "metadata": {},
   "outputs": [],
   "source": [
    "file = 'data/bp_mnist_et'\n",
    "np.save(file, bp)\n",
    "bp = np.load('data/bp_mnist_et.npy', allow_pickle=True)\n",
    "bp = bp.tolist()\n",
    "print ('best parameters:',bp)\n"
   ]
  }
 ],
 "metadata": {
  "kernelspec": {
   "display_name": "Python 3",
   "language": "python",
   "name": "python3"
  },
  "language_info": {
   "codemirror_mode": {
    "name": "ipython",
    "version": 3
   },
   "file_extension": ".py",
   "mimetype": "text/x-python",
   "name": "python",
   "nbconvert_exporter": "python",
   "pygments_lexer": "ipython3",
   "version": "3.7.4"
  }
 },
 "nbformat": 4,
 "nbformat_minor": 2
}
