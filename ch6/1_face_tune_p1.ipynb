{
 "cells": [
  {
   "cell_type": "code",
   "execution_count": 4,
   "metadata": {},
   "outputs": [],
   "source": [
    "import numpy as np, humanfriendly as hf, warnings\n",
    "import time\n",
    "from sklearn.decomposition import PCA\n",
    "from sklearn.model_selection import train_test_split,GridSearchCV, cross_val_score\n",
    "from sklearn.linear_model import SGDClassifier\n",
    "from sklearn.metrics import classification_report\n"
   ]
  },
  {
   "cell_type": "code",
   "execution_count": 5,
   "metadata": {},
   "outputs": [],
   "source": [
    "def see_time(note,start):\n",
    "    end = time.perf_counter()\n",
    "    elapsed = end - start\n",
    "    print (note,hf.format_timespan(elapsed, detailed=True))"
   ]
  },
  {
   "cell_type": "code",
   "execution_count": 6,
   "metadata": {},
   "outputs": [],
   "source": [
    "def get_cross(model, data, target, groups=10):\n",
    "    return cross_val_score(model, data, target, cv=groups)"
   ]
  },
  {
   "cell_type": "code",
   "execution_count": 11,
   "metadata": {},
   "outputs": [
    {
     "data": {
      "text/plain": [
       "(1288, 1850)"
      ]
     },
     "execution_count": 11,
     "metadata": {},
     "output_type": "execute_result"
    }
   ],
   "source": [
    "X = np.load('data/X_faces.npy')\n",
    "y = np.load('data/y_faces.npy')\n",
    "X_train, X_test, y_train, y_test = train_test_split(X, y, random_state=0)\n",
    "X.shape"
   ]
  },
  {
   "cell_type": "code",
   "execution_count": 8,
   "metadata": {},
   "outputs": [],
   "source": [
    "# 数据降维\n",
    "pca = PCA(n_components=0.95, whiten=True, random_state=1)\n",
    "pca.fit(X_train)\n",
    "X_train_pca = pca.transform(X_train)\n",
    "X_test_pca = pca.transform(X_test)"
   ]
  },
  {
   "cell_type": "code",
   "execution_count": 10,
   "metadata": {},
   "outputs": [
    {
     "name": "stdout",
     "output_type": "stream",
     "text": [
      "PCAfeatures (before PCA): 1850 features (after PCA): 135\n"
     ]
    }
   ],
   "source": [
    "pca_name = pca.__class__.__name__\n",
    "print (pca_name + 'features (before PCA):', X.shape[1],'features (after PCA):', pca.n_components_)"
   ]
  },
  {
   "cell_type": "code",
   "execution_count": 12,
   "metadata": {},
   "outputs": [
    {
     "name": "stdout",
     "output_type": "stream",
     "text": [
      "              precision    recall  f1-score   support\n",
      "\n",
      "           0       0.89      0.57      0.70        28\n",
      "           1       0.80      0.78      0.79        63\n",
      "           2       0.82      0.58      0.68        24\n",
      "           3       0.71      0.89      0.79       132\n",
      "           4       0.52      0.55      0.54        20\n",
      "           5       0.86      0.27      0.41        22\n",
      "           6       0.65      0.67      0.66        33\n",
      "\n",
      "    accuracy                           0.73       322\n",
      "   macro avg       0.75      0.62      0.65       322\n",
      "weighted avg       0.75      0.73      0.72       322\n",
      "\n"
     ]
    }
   ],
   "source": [
    "sgd_model = SGDClassifier(max_iter=1000, tol=.001, random_state=0)\n",
    "sgd_model.fit(X_train_pca, y_train)\n",
    "y_pred = sgd_model.predict(X_test_pca)\n",
    "cr = classification_report(y_test, y_pred)\n",
    "print(cr)"
   ]
  },
  {
   "cell_type": "code",
   "execution_count": 15,
   "metadata": {},
   "outputs": [
    {
     "name": "stderr",
     "output_type": "stream",
     "text": [
      "C:\\Anaconda3\\lib\\site-packages\\sklearn\\model_selection\\_search.py:814: DeprecationWarning: The default of the `iid` parameter will change from True to False in version 0.22 and will be removed in 0.24. This will change numeric results when test-set sizes are unequal.\n",
      "  DeprecationWarning)\n"
     ]
    },
    {
     "name": "stdout",
     "output_type": "stream",
     "text": [
      "training time: 8 seconds, 544 milliseconds, 538 microseconds and 600 nanoseconds\n",
      "best parameters: {'alpha': 0.001, 'loss': 'log', 'max_iter': 1000, 'penalty': 'l1', 'tol': 0.001}\n"
     ]
    }
   ],
   "source": [
    "param_grid = {'alpha': [1e-3, 1e-2, 1e-1, 1e0],\n",
    "              'max_iter': [1000],\n",
    "              'loss': ['log', 'perceptron'],\n",
    "              'penalty': ['l1'], 'tol': [.001]}\n",
    "grid = GridSearchCV(sgd_model, param_grid, cv=5)\n",
    "start = time.perf_counter()\n",
    "grid.fit(X_train_pca, y_train)\n",
    "see_time('training time:',start)\n",
    "bp = grid.best_params_\n",
    "print ('best parameters:',bp)"
   ]
  },
  {
   "cell_type": "code",
   "execution_count": 18,
   "metadata": {},
   "outputs": [
    {
     "name": "stdout",
     "output_type": "stream",
     "text": [
      "              precision    recall  f1-score   support\n",
      "\n",
      "           0       0.70      0.57      0.63        28\n",
      "           1       0.78      0.81      0.80        63\n",
      "           2       0.68      0.71      0.69        24\n",
      "           3       0.83      0.84      0.84       132\n",
      "           4       0.47      0.70      0.56        20\n",
      "           5       0.90      0.41      0.56        22\n",
      "           6       0.69      0.76      0.72        33\n",
      "\n",
      "    accuracy                           0.75       322\n",
      "   macro avg       0.72      0.69      0.69       322\n",
      "weighted avg       0.77      0.75      0.75       322\n",
      "\n",
      "cross-validation: 0.773450773120741\n"
     ]
    }
   ],
   "source": [
    "sgd_bpmodel = SGDClassifier(**bp, random_state=1)\n",
    "sgd_bpmodel.fit(X_train_pca, y_train)\n",
    "y_pred = sgd_bpmodel.predict(X_test_pca)\n",
    "cr = classification_report(y_test, y_pred)\n",
    "print (cr)\n",
    "scores = get_cross(sgd_bpmodel, X_train_pca, y_train)\n",
    "print ('cross-validation:',np.mean(scores))"
   ]
  },
  {
   "cell_type": "code",
   "execution_count": null,
   "metadata": {},
   "outputs": [],
   "source": []
  }
 ],
 "metadata": {
  "kernelspec": {
   "display_name": "Python 3",
   "language": "python",
   "name": "python3"
  },
  "language_info": {
   "codemirror_mode": {
    "name": "ipython",
    "version": 3
   },
   "file_extension": ".py",
   "mimetype": "text/x-python",
   "name": "python",
   "nbconvert_exporter": "python",
   "pygments_lexer": "ipython3",
   "version": "3.7.4"
  }
 },
 "nbformat": 4,
 "nbformat_minor": 2
}
