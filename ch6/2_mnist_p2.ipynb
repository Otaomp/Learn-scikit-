{
 "cells": [
  {
   "cell_type": "code",
   "execution_count": 3,
   "metadata": {},
   "outputs": [],
   "source": [
    "import numpy as np, humanfriendly as hf, random\n",
    "import time\n",
    "from sklearn.model_selection import train_test_split\n",
    "from sklearn.model_selection import RandomizedSearchCV\n",
    "from sklearn.decomposition import PCA\n",
    "from sklearn.preprocessing import StandardScaler\n",
    "from sklearn.svm import SVC"
   ]
  },
  {
   "cell_type": "code",
   "execution_count": 4,
   "metadata": {},
   "outputs": [],
   "source": [
    "def get_scores(model, xtrain, ytrain, xtest, ytest):\n",
    "    ypred = model.predict(xtest)\n",
    "    train = model.score(xtrain, ytrain)\n",
    "    test = model.score(xtest, y_test)\n",
    "    name = model.__class__.__name__\n",
    "    return (name, train, test)"
   ]
  },
  {
   "cell_type": "code",
   "execution_count": 5,
   "metadata": {},
   "outputs": [],
   "source": [
    "def prep_data(data, target):\n",
    "    d = [data[i] for i, _ in enumerate(data)]\n",
    "    t = [target[i] for i, _ in enumerate(target)]\n",
    "    return list(zip(d, t))"
   ]
  },
  {
   "cell_type": "code",
   "execution_count": 6,
   "metadata": {},
   "outputs": [],
   "source": [
    "def create_sample(d, n, replace='yes'):\n",
    "    if replace == 'yes': s = random.sample(d, n)\n",
    "    else: s = [random.choice(d) for i, _ in enumerate(d)\n",
    "               if i < n]\n",
    "    Xs = [row[0] for i, row in enumerate(s)]\n",
    "    ys = [row[1] for i, row in enumerate(s)]\n",
    "    return np.array(Xs), np.array(ys)"
   ]
  },
  {
   "cell_type": "code",
   "execution_count": 7,
   "metadata": {},
   "outputs": [],
   "source": [
    "def see_time(note,start):\n",
    "    end = time.perf_counter()\n",
    "    elapsed = end - start\n",
    "    print (note,hf.format_timespan(elapsed, detailed=True))"
   ]
  },
  {
   "cell_type": "code",
   "execution_count": 8,
   "metadata": {},
   "outputs": [],
   "source": [
    "X_file = 'data/X_mnist'\n",
    "y_file = 'data/y_mnist'\n",
    "X = np.load('data/X_mnist.npy')\n",
    "y = np.load('data/y_mnist.npy')"
   ]
  },
  {
   "cell_type": "code",
   "execution_count": 9,
   "metadata": {},
   "outputs": [],
   "source": [
    "X = X.astype(np.float32)\n",
    "data = prep_data(X, y)\n",
    "sample_size = 7000\n",
    "Xs, ys = create_sample(data, sample_size)"
   ]
  },
  {
   "cell_type": "code",
   "execution_count": 10,
   "metadata": {},
   "outputs": [],
   "source": [
    "pca = PCA(n_components=0.95, random_state=0)\n",
    "Xs = StandardScaler().fit_transform(Xs)\n",
    "Xs_reduced = pca.fit_transform(Xs)\n",
    "X_train, X_test, y_train, y_test = train_test_split(Xs_reduced, ys, random_state=0)"
   ]
  },
  {
   "cell_type": "code",
   "execution_count": 13,
   "metadata": {},
   "outputs": [
    {
     "name": "stdout",
     "output_type": "stream",
     "text": [
      "time: 5 seconds, 635 milliseconds, 348 microseconds and 800 nanoseconds\n",
      "SVCtrain: 0.9803809523809524 test: 0.9262857142857143\n"
     ]
    }
   ],
   "source": [
    "svm_model = SVC(gamma='scale', random_state=0)\n",
    "start = time.perf_counter()\n",
    "svm_model.fit(X_train, y_train)\n",
    "see_time('time:',start)\n",
    "svm_model_scores = get_scores(svm_model, X_train, y_train,X_test, y_test)\n",
    "print (svm_model_scores[0] + 'train:',svm_model_scores[1],'test:',svm_model_scores[2])"
   ]
  },
  {
   "cell_type": "code",
   "execution_count": 14,
   "metadata": {},
   "outputs": [
    {
     "name": "stdout",
     "output_type": "stream",
     "text": [
      "Fitting 3 folds for each of 3 candidates, totalling 9 fits\n"
     ]
    },
    {
     "name": "stderr",
     "output_type": "stream",
     "text": [
      "[Parallel(n_jobs=-1)]: Using backend LokyBackend with 4 concurrent workers.\n",
      "[Parallel(n_jobs=-1)]: Done   7 out of   9 | elapsed:   19.9s remaining:    5.6s\n",
      "[Parallel(n_jobs=-1)]: Done   9 out of   9 | elapsed:   23.8s finished\n"
     ]
    },
    {
     "name": "stdout",
     "output_type": "stream",
     "text": [
      "RandomizedSearchCV total tuning time: 29 seconds, 872 milliseconds, 711 microseconds and 700 nanoseconds\n",
      "{'kernel': 'poly', 'gamma': 'scale', 'degree': 3, 'coef0': 0.1, 'C': 30}\n"
     ]
    }
   ],
   "source": [
    "param_grid = {'C': [30, 35, 40], 'kernel': ['poly'],'gamma': ['scale'], 'degree': [3],'coef0': [0.1]}\n",
    "start = time.perf_counter()\n",
    "rand = RandomizedSearchCV(svm_model, param_grid, cv=3, n_jobs = -1,random_state=0, n_iter=3,verbose=2)\n",
    "rand.fit(X_train, y_train)\n",
    "see_time('RandomizedSearchCV total tuning time:',start)\n",
    "bp = rand.best_params_\n",
    "print (bp)"
   ]
  },
  {
   "cell_type": "code",
   "execution_count": 16,
   "metadata": {},
   "outputs": [
    {
     "name": "stdout",
     "output_type": "stream",
     "text": [
      "SVCtrain: 1.0 test: 0.9508571428571428\n",
      "total time: 12 seconds, 982 milliseconds, 448 microseconds and 300 nanoseconds\n"
     ]
    }
   ],
   "source": [
    "svm_bpmodel = SVC(**bp, random_state=0)\n",
    "start = time.perf_counter()\n",
    "svm_bpmodel.fit(X_train, y_train)\n",
    "svm_scores = get_scores(svm_bpmodel, X_train, y_train,X_test, y_test)\n",
    "print (svm_scores[0] + 'train:',svm_scores[1],'test:',svm_scores[2])\n",
    "see_time('total time:',start)"
   ]
  },
  {
   "cell_type": "code",
   "execution_count": null,
   "metadata": {},
   "outputs": [],
   "source": []
  }
 ],
 "metadata": {
  "kernelspec": {
   "display_name": "Python 3",
   "language": "python",
   "name": "python3"
  },
  "language_info": {
   "codemirror_mode": {
    "name": "ipython",
    "version": 3
   },
   "file_extension": ".py",
   "mimetype": "text/x-python",
   "name": "python",
   "nbconvert_exporter": "python",
   "pygments_lexer": "ipython3",
   "version": "3.7.4"
  }
 },
 "nbformat": 4,
 "nbformat_minor": 2
}
