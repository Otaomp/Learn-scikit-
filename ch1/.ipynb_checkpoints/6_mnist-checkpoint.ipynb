{
 "cells": [
  {
   "cell_type": "code",
   "execution_count": 1,
   "metadata": {},
   "outputs": [],
   "source": [
    "import numpy as np\n",
    "from random import randint\n",
    "import matplotlib.pyplot as plt"
   ]
  },
  {
   "cell_type": "code",
   "execution_count": 2,
   "metadata": {},
   "outputs": [],
   "source": [
    "def find_image(data, labels, d):\n",
    "    for i, row in enumerate(labels):\n",
    "        if d == row:\n",
    "            target = row\n",
    "            X_pixels = np.array(data[i])\n",
    "            return (target, X_pixels)\n",
    "\n"
   ]
  },
  {
   "cell_type": "code",
   "execution_count": 3,
   "metadata": {},
   "outputs": [],
   "source": [
    "X = np.load('data/X_mnist.npy')\n",
    "y = np.load('data/y_mnist.npy')\n",
    "target = np.load('data/mnist_targets.npy')"
   ]
  },
  {
   "cell_type": "code",
   "execution_count": 4,
   "metadata": {},
   "outputs": [
    {
     "name": "stdout",
     "output_type": "stream",
     "text": [
      "labels (targets): [0. 1. 2. 3. 4. 5. 6. 7. 8. 9.]\n",
      "feature set shape: (70000, 784)\n",
      "target set shape: (70000,)\n"
     ]
    }
   ],
   "source": [
    "print ('labels (targets):',target)\n",
    "print ('feature set shape:',X.shape)\n",
    "print ('target set shape:',y.shape)"
   ]
  },
  {
   "cell_type": "code",
   "execution_count": 5,
   "metadata": {},
   "outputs": [
    {
     "name": "stdout",
     "output_type": "stream",
     "text": [
      "the feature image consists of 784 pixels\n"
     ]
    }
   ],
   "source": [
    "indx = randint(0, y.shape[0]-1)\n",
    "target = y[indx]\n",
    "X_pixels = np.array(X[indx])\n",
    "print ('the feature image consists of', len(X_pixels),'pixels')\n",
    "X_image = X_pixels.reshape(28, 28)"
   ]
  },
  {
   "cell_type": "code",
   "execution_count": 7,
   "metadata": {},
   "outputs": [
    {
     "data": {
      "text/plain": [
       "<matplotlib.image.AxesImage at 0x1efdf8f1c48>"
      ]
     },
     "execution_count": 7,
     "metadata": {},
     "output_type": "execute_result"
    },
    {
     "data": {
      "image/png": "[encoded data removed]",
      "text/plain": [
       "<Figure size 216x216 with 1 Axes>"
      ]
     },
     "metadata": {
      "needs_background": "light"
     },
     "output_type": "display_data"
    }
   ],
   "source": [
    "plt.figure(1, figsize=(3, 3))\n",
    "title = 'image @ indx ' + str(indx) + ' is digit ' + str(int(target))\n",
    "plt.title(title)\n",
    "plt.imshow(X_image, cmap='gray')"
   ]
  },
  {
   "cell_type": "code",
   "execution_count": 8,
   "metadata": {},
   "outputs": [],
   "source": [
    "digit = 7\n",
    "target, X_pixels = find_image(X, y, digit)\n",
    "X_image = X_pixels.reshape(28, 28)"
   ]
  },
  {
   "cell_type": "code",
   "execution_count": 9,
   "metadata": {},
   "outputs": [
    {
     "data": {
      "text/plain": [
       "<matplotlib.image.AxesImage at 0x1efe4e58348>"
      ]
     },
     "execution_count": 9,
     "metadata": {},
     "output_type": "execute_result"
    },
    {
     "data": {
      "image/png": "[encoded data removed]",
      "text/plain": [
       "<Figure size 216x216 with 1 Axes>"
      ]
     },
     "metadata": {
      "needs_background": "light"
     },
     "output_type": "display_data"
    }
   ],
   "source": [
    "plt.figure(2, figsize=(3, 3))\n",
    "title = 'find first ' + str(int(target)) + ' in dataset'\n",
    "plt.title(title)\n",
    "plt.imshow(X_image, cmap='gray')"
   ]
  },
  {
   "cell_type": "code",
   "execution_count": null,
   "metadata": {},
   "outputs": [],
   "source": []
  }
 ],
 "metadata": {
  "kernelspec": {
   "display_name": "Python 3",
   "language": "python",
   "name": "python3"
  },
  "language_info": {
   "codemirror_mode": {
    "name": "ipython",
    "version": 3
   },
   "file_extension": ".py",
   "mimetype": "text/x-python",
   "name": "python",
   "nbconvert_exporter": "python",
   "pygments_lexer": "ipython3",
   "version": "3.7.4"
  }
 },
 "nbformat": 4,
 "nbformat_minor": 2
}
