{
 "cells": [
  {
   "cell_type": "code",
   "execution_count": 1,
   "metadata": {},
   "outputs": [],
   "source": [
    "from sklearn.datasets import load_wine\n",
    "from sklearn.ensemble import RandomForestClassifier"
   ]
  },
  {
   "cell_type": "code",
   "execution_count": 2,
   "metadata": {},
   "outputs": [
    {
     "data": {
      "text/plain": [
       "dict_keys(['data', 'target', 'target_names', 'DESCR', 'feature_names'])"
      ]
     },
     "execution_count": 2,
     "metadata": {},
     "output_type": "execute_result"
    }
   ],
   "source": [
    "data = load_wine()\n",
    "keys = data.keys()\n",
    "keys"
   ]
  },
  {
   "cell_type": "code",
   "execution_count": 3,
   "metadata": {},
   "outputs": [
    {
     "name": "stdout",
     "output_type": "stream",
     "text": [
      "features: (178, 13)\n",
      "targets (178,)\n"
     ]
    }
   ],
   "source": [
    "X, y = data.data, data.target\n",
    "print ('features:', X.shape)\n",
    "print ('targets', y.shape)"
   ]
  },
  {
   "cell_type": "code",
   "execution_count": 4,
   "metadata": {},
   "outputs": [
    {
     "name": "stdout",
     "output_type": "stream",
     "text": [
      "feature set: ['alcohol', 'malic_acid', 'ash', 'alcalinity_of_ash', 'magnesium', 'total_phenols', 'flavanoids', 'nonflavanoid_phenols', 'proanthocyanins', 'color_intensity', 'hue', 'od280/od315_of_diluted_wines', 'proline']\n",
      "targets: ['class_0' 'class_1' 'class_2']\n"
     ]
    }
   ],
   "source": [
    "features = data.feature_names\n",
    "targets = data.target_names\n",
    "print ('feature set:',features)\n",
    "print ('targets:',targets)"
   ]
  },
  {
   "cell_type": "code",
   "execution_count": 6,
   "metadata": {},
   "outputs": [],
   "source": [
    "rnd_clf = RandomForestClassifier(random_state=0,n_estimators=100)\n",
    "rnd_clf.fit(X, y)\n",
    "rnd_name = rnd_clf.__class__.__name__"
   ]
  },
  {
   "cell_type": "code",
   "execution_count": 7,
   "metadata": {},
   "outputs": [
    {
     "name": "stdout",
     "output_type": "stream",
     "text": [
      "6 most important features (RandomForestClassifier):\n",
      "(0.19399882779940297, 'proline')\n",
      "(0.16095401215681596, 'flavanoids')\n",
      "(0.14526673645591434, 'color_intensity')\n",
      "(0.11070045042456282, 'alcohol')\n",
      "(0.10974652627174931, 'od280/od315_of_diluted_wines')\n",
      "(0.08968972021098302, 'hue')\n"
     ]
    },
    {
     "data": {
      "text/plain": [
       "[None, None, None, None, None, None]"
      ]
     },
     "execution_count": 7,
     "metadata": {},
     "output_type": "execute_result"
    }
   ],
   "source": [
    "feature_importances = rnd_clf.feature_importances_\n",
    "importance = sorted(zip(feature_importances, features),reverse=True)\n",
    "n = 6\n",
    "print (n, 'most important features' + ' (' + rnd_name + '):')\n",
    "[print (row) for i, row in enumerate(importance) if i < n]"
   ]
  },
  {
   "cell_type": "code",
   "execution_count": null,
   "metadata": {},
   "outputs": [],
   "source": []
  }
 ],
 "metadata": {
  "kernelspec": {
   "display_name": "Python 3",
   "language": "python",
   "name": "python3"
  },
  "language_info": {
   "codemirror_mode": {
    "name": "ipython",
    "version": 3
   },
   "file_extension": ".py",
   "mimetype": "text/x-python",
   "name": "python",
   "nbconvert_exporter": "python",
   "pygments_lexer": "ipython3",
   "version": "3.7.4"
  }
 },
 "nbformat": 4,
 "nbformat_minor": 2
}
