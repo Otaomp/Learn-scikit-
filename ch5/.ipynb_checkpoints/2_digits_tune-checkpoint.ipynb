{
 "cells": [
  {
   "cell_type": "code",
   "execution_count": 1,
   "metadata": {},
   "outputs": [],
   "source": [
    "import numpy as np, humanfriendly as hf\n",
    "import time\n",
    "from sklearn.datasets import load_digits\n",
    "from sklearn.model_selection import train_test_split,cross_val_score\n",
    "from sklearn.linear_model import LogisticRegression\n",
    "from sklearn.neighbors import KNeighborsClassifier\n",
    "from sklearn.metrics import accuracy_score\n",
    "from sklearn.model_selection import GridSearchCV"
   ]
  },
  {
   "cell_type": "code",
   "execution_count": 2,
   "metadata": {},
   "outputs": [],
   "source": [
    "def get_scores(model, Xtrain, ytrain, Xtest, ytest):\n",
    "    y_pred = model.predict(Xtrain)\n",
    "    train = accuracy_score(ytrain, y_pred)\n",
    "    y_pred = model.predict(Xtest)\n",
    "    test = accuracy_score(ytest, y_pred)\n",
    "    return train, test, model.__class__.__name__"
   ]
  },
  {
   "cell_type": "code",
   "execution_count": 3,
   "metadata": {},
   "outputs": [],
   "source": [
    "def get_cross(model, data, target, groups=10):\n",
    "    return cross_val_score(model, data, target, cv=groups)"
   ]
  },
  {
   "cell_type": "code",
   "execution_count": 4,
   "metadata": {},
   "outputs": [],
   "source": [
    "def see_time(note,start):\n",
    "    end = time.perf_counter()\n",
    "    elapsed = end - start\n",
    "    print (note,hf.format_timespan(elapsed, detailed=True))"
   ]
  },
  {
   "cell_type": "code",
   "execution_count": 5,
   "metadata": {},
   "outputs": [],
   "source": [
    "digits = load_digits()\n",
    "X = digits.data\n",
    "y = digits.target\n",
    "X_train, X_test, y_train, y_test = train_test_split(X, y, random_state=0)"
   ]
  },
  {
   "cell_type": "code",
   "execution_count": 7,
   "metadata": {},
   "outputs": [
    {
     "name": "stdout",
     "output_type": "stream",
     "text": [
      "KNeighborsClassifier train: 0.99 test: 0.98\n"
     ]
    }
   ],
   "source": [
    "knn_model = KNeighborsClassifier().fit(X_train, y_train)\n",
    "train_score, test_score, knn_model_name = get_scores(knn_model, X_train, y_train,X_test, y_test)\n",
    "print (knn_model_name,'train:', np.round(train_score, 2),'test:', np.round(test_score, 2))"
   ]
  },
  {
   "cell_type": "code",
   "execution_count": 8,
   "metadata": {},
   "outputs": [
    {
     "name": "stdout",
     "output_type": "stream",
     "text": [
      "GridSearchCV total tuning time: 3 seconds, 993 milliseconds, 591 microseconds and 800 nanoseconds\n",
      "{'metric': 'euclidean', 'n_neighbors': 3}\n"
     ]
    }
   ],
   "source": [
    "start = time.perf_counter()\n",
    "param_grid = {'n_neighbors': np.arange(1, 31, 2),'metric': ['euclidean', 'cityblock']}\n",
    "grid = GridSearchCV(knn_model, param_grid, cv=5, n_jobs=-1)\n",
    "grid.fit(X, y)\n",
    "see_time('GridSearchCV total tuning time:',start=start)\n",
    "best_params = grid.best_params_\n",
    "print (best_params)"
   ]
  },
  {
   "cell_type": "code",
   "execution_count": 10,
   "metadata": {},
   "outputs": [
    {
     "name": "stdout",
     "output_type": "stream",
     "text": [
      "KNeighborsClassifier train: 0.99 test: 0.99\n"
     ]
    }
   ],
   "source": [
    "knn_tuned_model = KNeighborsClassifier(**best_params)\n",
    "knn_tuned_model.fit(X_train, y_train)\n",
    "train_score, test_score, knn_tuned_model_name = get_scores(knn_tuned_model, X_train, y_train,X_test, y_test)\n",
    "print(knn_tuned_model_name,'train:', np.round(train_score, 2),'test:', np.round(test_score, 2))"
   ]
  },
  {
   "cell_type": "code",
   "execution_count": 11,
   "metadata": {},
   "outputs": [
    {
     "name": "stdout",
     "output_type": "stream",
     "text": [
      "LogisticRegression train: 1.0 test: 0.95\n"
     ]
    }
   ],
   "source": [
    "lr_model = LogisticRegression(random_state=0, max_iter=4000,multi_class='auto', solver='lbfgs')\n",
    "lr_model.fit(X_train, y_train)\n",
    "train_score, test_score, lr_model_name = get_scores(lr_model, X_train, y_train,X_test, y_test)\n",
    "print(lr_model_name,'train:', np.round(train_score, 2),'test:', np.round(test_score, 2))"
   ]
  },
  {
   "cell_type": "code",
   "execution_count": 13,
   "metadata": {},
   "outputs": [
    {
     "name": "stdout",
     "output_type": "stream",
     "text": [
      "GridSearchCV total tuning time: 15 seconds, 539 milliseconds, 234 microseconds and 500 nanoseconds\n",
      "{'C': 0.001, 'max_iter': 4000, 'multi_class': 'auto', 'penalty': 'l2', 'solver': 'newton-cg'}\n"
     ]
    }
   ],
   "source": [
    "start = time.perf_counter()\n",
    "param_grid = {'penalty': ['l2'],'solver': ['newton-cg', 'lbfgs', 'sag'],\n",
    "              'max_iter': [4000], 'multi_class': ['auto'],'C': [0.001, 0.01, 0.1]}\n",
    "\n",
    "grid = GridSearchCV(lr_model, param_grid, cv=5, n_jobs=-1)\n",
    "grid.fit(X, y)\n",
    "see_time('GridSearchCV total tuning time:',start=start)\n",
    "bp = grid.best_params_\n",
    "print (bp)"
   ]
  },
  {
   "cell_type": "code",
   "execution_count": 15,
   "metadata": {},
   "outputs": [
    {
     "name": "stdout",
     "output_type": "stream",
     "text": [
      "LogisticRegression train: 0.97 test: 0.96\n"
     ]
    }
   ],
   "source": [
    "lr_tuned_model = LogisticRegression(**bp, random_state=0)\n",
    "lr_tuned_model.fit(X_train, y_train)\n",
    "train_score, test_score, lr_model_name = get_scores(lr_tuned_model, X_train, y_train,X_test, y_test)\n",
    "print(lr_model_name,'train:', np.round(train_score, 2),'test:', np.round(test_score, 2))"
   ]
  },
  {
   "cell_type": "code",
   "execution_count": 16,
   "metadata": {},
   "outputs": [
    {
     "name": "stdout",
     "output_type": "stream",
     "text": [
      "cross-validation score knn:\n",
      "0.9739482872546906\n"
     ]
    }
   ],
   "source": [
    "print ('cross-validation score knn:')\n",
    "knn = KNeighborsClassifier()\n",
    "scores = get_cross(knn, X, y)\n",
    "print (np.mean(scores))"
   ]
  },
  {
   "cell_type": "code",
   "execution_count": null,
   "metadata": {},
   "outputs": [],
   "source": []
  },
  {
   "cell_type": "code",
   "execution_count": null,
   "metadata": {},
   "outputs": [],
   "source": []
  }
 ],
 "metadata": {
  "kernelspec": {
   "display_name": "Python 3",
   "language": "python",
   "name": "python3"
  },
  "language_info": {
   "codemirror_mode": {
    "name": "ipython",
    "version": 3
   },
   "file_extension": ".py",
   "mimetype": "text/x-python",
   "name": "python",
   "nbconvert_exporter": "python",
   "pygments_lexer": "ipython3",
   "version": "3.7.4"
  }
 },
 "nbformat": 4,
 "nbformat_minor": 2
}
