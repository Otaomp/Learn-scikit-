{
 "cells": [
  {
   "cell_type": "code",
   "execution_count": 1,
   "metadata": {},
   "outputs": [],
   "source": [
    "import numpy as np, humanfriendly as hf\n",
    "import time\n",
    "from sklearn.datasets import load_iris\n",
    "from sklearn.model_selection import GridSearchCV\n",
    "# 只要把参数输进去，就能给出最优化的结果和参数。但是这个方法适合于小数据集\n",
    "from sklearn.model_selection import RandomizedSearchCV\n",
    "# 超参数优化也就是常说的调参，python-sklearn里常用的有GridSearchCV和RandomizedSearchCV可以用。\n",
    "# 其中GridSearchCV的原理很简明，就是程序去挨个尝试每一组超参数，然后选取最好的那一组。\n",
    "from sklearn.neighbors import KNeighborsClassifier\n",
    "from sklearn.model_selection import train_test_split\n",
    "from sklearn.metrics import accuracy_score\n",
    "from sklearn.model_selection import cross_val_score"
   ]
  },
  {
   "cell_type": "code",
   "execution_count": 2,
   "metadata": {},
   "outputs": [],
   "source": [
    "def get_scores(model, Xtrain, ytrain, Xtest, ytest):\n",
    "    y_pred = model.predict(Xtrain)\n",
    "    train = accuracy_score(ytrain, y_pred)\n",
    "    y_pred = model.predict(Xtest)\n",
    "    test = accuracy_score(ytest, y_pred)\n",
    "    return train, test, model.__class__.__name__"
   ]
  },
  {
   "cell_type": "code",
   "execution_count": 3,
   "metadata": {},
   "outputs": [],
   "source": [
    "def get_cross(model, data, target, groups=10):\n",
    "    return cross_val_score(model, data, target, cv=groups)"
   ]
  },
  {
   "cell_type": "code",
   "execution_count": 4,
   "metadata": {},
   "outputs": [],
   "source": [
    "def see_time(note,start):\n",
    "    end = time.perf_counter()\n",
    "    elapsed = end - start\n",
    "    print (note,hf.format_timespan(elapsed, detailed=True))"
   ]
  },
  {
   "cell_type": "code",
   "execution_count": 5,
   "metadata": {},
   "outputs": [],
   "source": [
    "iris = load_iris()\n",
    "X = iris.data\n",
    "y = iris.target\n",
    "targets = iris.target_names\n",
    "X_train, X_test, y_train, y_test = train_test_split(X, y, random_state=0)"
   ]
  },
  {
   "cell_type": "code",
   "execution_count": 6,
   "metadata": {},
   "outputs": [],
   "source": [
    "knn_model = KNeighborsClassifier()"
   ]
  },
  {
   "cell_type": "code",
   "execution_count": 7,
   "metadata": {},
   "outputs": [],
   "source": [
    "# 定义调节参数，均以列表存储，然后打包成字典\n",
    "distances = [1, 2, 3, 4, 5]\n",
    "k_range = list(range(1, 31))\n",
    "leaf = [10]\n",
    "param_grid = dict(n_neighbors=k_range, p=distances,leaf_size=leaf)"
   ]
  },
  {
   "cell_type": "code",
   "execution_count": 8,
   "metadata": {},
   "outputs": [
    {
     "name": "stdout",
     "output_type": "stream",
     "text": [
      "GridSearchCV total tuning time: 2 seconds, 890 milliseconds, 904 microseconds and 300 nanoseconds\n",
      "best parameters: {'leaf_size': 10, 'n_neighbors': 6, 'p': 3}\n"
     ]
    }
   ],
   "source": [
    "start = time.perf_counter()\n",
    "grid = GridSearchCV(knn_model, param_grid, cv=10,scoring='accuracy')\n",
    "grid.fit(X, y)\n",
    "see_time('GridSearchCV total tuning time:',start=start)\n",
    "bp = grid.best_params_# 找到最好参数\n",
    "print ('best parameters:',bp)"
   ]
  },
  {
   "cell_type": "code",
   "execution_count": 9,
   "metadata": {},
   "outputs": [],
   "source": [
    "knn_best_model = KNeighborsClassifier(**bp).fit(X_train, y_train)# 用最好的参数学习\n",
    "train_score, test_score, name = get_scores(knn_best_model, X_train, y_train,X_test, y_test)"
   ]
  },
  {
   "cell_type": "code",
   "execution_count": 10,
   "metadata": {},
   "outputs": [
    {
     "name": "stdout",
     "output_type": "stream",
     "text": [
      "KNeighborsClassifier train/test scores (GridSearchCV):\n",
      "0.9732142857142857 0.9736842105263158\n"
     ]
    }
   ],
   "source": [
    "print (name, 'train/test scores (GridSearchCV):')\n",
    "print(train_score, test_score)"
   ]
  },
  {
   "cell_type": "code",
   "execution_count": 11,
   "metadata": {},
   "outputs": [
    {
     "name": "stdout",
     "output_type": "stream",
     "text": [
      "cross-val scores: [1.         0.93333333 1.         1.         0.93333333 1.\n",
      " 0.93333333 1.         1.         1.        ]\n",
      "avg cross-val score: 0.9800000000000001\n"
     ]
    }
   ],
   "source": [
    "scores = get_cross(knn_best_model, X, y)\n",
    "print('cross-val scores:',scores)\n",
    "print('avg cross-val score:', np.mean(scores))"
   ]
  },
  {
   "cell_type": "code",
   "execution_count": 12,
   "metadata": {},
   "outputs": [
    {
     "name": "stdout",
     "output_type": "stream",
     "text": [
      "dict_keys(['mean_fit_time', 'std_fit_time', 'mean_score_time', 'std_score_time', 'param_leaf_size', 'param_n_neighbors', 'param_p', 'params', 'split0_test_score', 'split1_test_score', 'split2_test_score', 'split3_test_score', 'split4_test_score', 'split5_test_score', 'split6_test_score', 'split7_test_score', 'split8_test_score', 'split9_test_score', 'mean_test_score', 'std_test_score', 'rank_test_score'])\n",
      "mean grid score: 0.9673333333333333\n"
     ]
    }
   ],
   "source": [
    "d = grid.cv_results_\n",
    "print(d.keys())\n",
    "print ('mean grid score:', np.mean(d['mean_test_score']))"
   ]
  },
  {
   "cell_type": "code",
   "execution_count": 15,
   "metadata": {},
   "outputs": [
    {
     "name": "stdout",
     "output_type": "stream",
     "text": [
      "['versicolor']\n"
     ]
    }
   ],
   "source": [
    "vector = [[3, 5, 4, 2]]\n",
    "vectors = [[2, 5, 3, 5], [1, 4, 2, 1]]\n",
    "y_pred = knn_best_model.predict(vector)\n",
    "print (targets[y_pred])"
   ]
  },
  {
   "cell_type": "code",
   "execution_count": 17,
   "metadata": {},
   "outputs": [
    {
     "name": "stdout",
     "output_type": "stream",
     "text": [
      "['versicolor' 'setosa']\n"
     ]
    }
   ],
   "source": [
    "y_preds = knn_best_model.predict(vectors)\n",
    "print (targets[y_preds])"
   ]
  },
  {
   "cell_type": "code",
   "execution_count": 18,
   "metadata": {},
   "outputs": [
    {
     "name": "stdout",
     "output_type": "stream",
     "text": [
      "RandomizedSearchCV total tuning time: 195 milliseconds, 257 microseconds and 400 nanoseconds\n"
     ]
    }
   ],
   "source": [
    "# 随机搜索\n",
    "start = time.perf_counter()\n",
    "randS_model = RandomizedSearchCV(knn_model, param_grid, cv=10,random_state=0,scoring='accuracy', n_iter=10)\n",
    "randS_model.fit(X, y)\n",
    "see_time('RandomizedSearchCV total tuning time:',start=start)"
   ]
  },
  {
   "cell_type": "code",
   "execution_count": 19,
   "metadata": {},
   "outputs": [
    {
     "name": "stdout",
     "output_type": "stream",
     "text": [
      "best parameters: {'p': 3, 'n_neighbors': 13, 'leaf_size': 10}\n",
      "KNeighborsClassifier train/test scores (RandomizedSearchCV):\n",
      "0.9642857142857143 0.9736842105263158\n"
     ]
    }
   ],
   "source": [
    "bp = randS_model.best_params_\n",
    "print ('best parameters:',bp)\n",
    "knn_best = KNeighborsClassifier(**bp).fit(X_train, y_train)\n",
    "train, test, name = get_scores(knn_best, X_train, y_train,X_test, y_test)\n",
    "print (name, 'train/test scores (RandomizedSearchCV):')\n",
    "print (train, test)"
   ]
  },
  {
   "cell_type": "code",
   "execution_count": null,
   "metadata": {},
   "outputs": [],
   "source": []
  }
 ],
 "metadata": {
  "kernelspec": {
   "display_name": "Python 3",
   "language": "python",
   "name": "python3"
  },
  "language_info": {
   "codemirror_mode": {
    "name": "ipython",
    "version": 3
   },
   "file_extension": ".py",
   "mimetype": "text/x-python",
   "name": "python",
   "nbconvert_exporter": "python",
   "pygments_lexer": "ipython3",
   "version": "3.7.4"
  }
 },
 "nbformat": 4,
 "nbformat_minor": 2
}
