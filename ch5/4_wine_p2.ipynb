{
 "cells": [
  {
   "cell_type": "code",
   "execution_count": 1,
   "metadata": {},
   "outputs": [],
   "source": [
    "from sklearn.datasets import load_wine\n",
    "from sklearn.neighbors import KNeighborsClassifier as knn\n",
    "from sklearn.svm import SVC\n",
    "from sklearn.gaussian_process import GaussianProcessClassifier as gpc\n",
    "from sklearn.gaussian_process.kernels import RBF as rbf# 高斯核\n",
    "from sklearn.tree import DecisionTreeClassifier as dt\n",
    "from sklearn.ensemble import RandomForestClassifier as rf,AdaBoostClassifier as ada\n",
    "# AdaBoostClassifier是集成学习的一种集成方法，其采用的基础分类器默认为决策树\n",
    "from sklearn.naive_bayes import GaussianNB as gnb\n",
    "from sklearn.discriminant_analysis import QuadraticDiscriminantAnalysis as qda,LinearDiscriminantAnalysis as lda\n",
    "# 二次判别分析\n",
    "from sklearn.linear_model import SGDClassifier as sgd\n",
    "from sklearn.preprocessing import StandardScaler\n",
    "from sklearn.model_selection import train_test_split\n",
    "from sklearn import metrics"
   ]
  },
  {
   "cell_type": "code",
   "execution_count": 2,
   "metadata": {},
   "outputs": [
    {
     "data": {
      "text/plain": [
       "((178, 13), (178,))"
      ]
     },
     "execution_count": 2,
     "metadata": {},
     "output_type": "execute_result"
    }
   ],
   "source": [
    "wine = load_wine()\n",
    "X = wine.data\n",
    "y = wine.target\n",
    "X.shape,y.shape"
   ]
  },
  {
   "cell_type": "code",
   "execution_count": 3,
   "metadata": {},
   "outputs": [],
   "source": [
    "X = StandardScaler().fit_transform(X)\n",
    "X_train, X_test, y_train, y_test = train_test_split(X, y, test_size=.4, random_state=0)"
   ]
  },
  {
   "cell_type": "code",
   "execution_count": 4,
   "metadata": {},
   "outputs": [],
   "source": [
    "# pipleline 形式\n",
    "classifiers = [knn(3), qda(), lda(), gnb(), \n",
    "               SVC(kernel='linear', gamma='scale',random_state=0),\n",
    "               ada(random_state=0), \n",
    "               dt(random_state=0),\n",
    "               sgd(max_iter=100, random_state=0),\n",
    "               gpc(1.0 * rbf(1.0), random_state=0),\n",
    "               rf(random_state=0, n_estimators=100)\n",
    "              ]"
   ]
  },
  {
   "cell_type": "code",
   "execution_count": 7,
   "metadata": {},
   "outputs": [
    {
     "name": "stdout",
     "output_type": "stream",
     "text": [
      "KNeighborsClassifiertrain socre: 0.9905660377358491 test score: 0.9027777777777778\n",
      "QuadraticDiscriminantAnalysistrain socre: 0.9905660377358491 test score: 1.0\n",
      "LinearDiscriminantAnalysistrain socre: 1.0 test score: 0.9722222222222222\n",
      "GaussianNBtrain socre: 0.9905660377358491 test score: 0.9444444444444444\n",
      "SVCtrain socre: 1.0 test score: 0.9722222222222222\n",
      "AdaBoostClassifiertrain socre: 1.0 test score: 0.9027777777777778\n",
      "DecisionTreeClassifiertrain socre: 1.0 test score: 0.9166666666666666\n",
      "SGDClassifiertrain socre: 1.0 test score: 0.9861111111111112\n",
      "GaussianProcessClassifiertrain socre: 1.0 test score: 0.9722222222222222\n",
      "RandomForestClassifiertrain socre: 1.0 test score: 0.9583333333333334\n"
     ]
    }
   ],
   "source": [
    "for clf in classifiers:\n",
    "    clf.fit(X_train, y_train)\n",
    "    train_score = clf.score(X_train, y_train)\n",
    "    test_score = clf.score(X_test, y_test)\n",
    "    name = clf.__class__.__name__\n",
    "    print (name + 'train socre:',train_score,'test score:',test_score)"
   ]
  },
  {
   "cell_type": "code",
   "execution_count": null,
   "metadata": {},
   "outputs": [],
   "source": []
  }
 ],
 "metadata": {
  "kernelspec": {
   "display_name": "Python 3",
   "language": "python",
   "name": "python3"
  },
  "language_info": {
   "codemirror_mode": {
    "name": "ipython",
    "version": 3
   },
   "file_extension": ".py",
   "mimetype": "text/x-python",
   "name": "python",
   "nbconvert_exporter": "python",
   "pygments_lexer": "ipython3",
   "version": "3.7.4"
  }
 },
 "nbformat": 4,
 "nbformat_minor": 2
}
