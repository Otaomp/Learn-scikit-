{
 "cells": [
  {
   "cell_type": "code",
   "execution_count": 1,
   "metadata": {},
   "outputs": [],
   "source": [
    "import numpy as np, humanfriendly as hf, random\n",
    "import time\n",
    "from sklearn.model_selection import train_test_split\n",
    "from sklearn.neighbors import KNeighborsClassifier"
   ]
  },
  {
   "cell_type": "code",
   "execution_count": 10,
   "metadata": {},
   "outputs": [],
   "source": [
    "def see_time(note,start):\n",
    "    end = time.perf_counter()\n",
    "    elapsed = end - start\n",
    "    print (note,hf.format_timespan(elapsed, detailed=True))"
   ]
  },
  {
   "cell_type": "code",
   "execution_count": 14,
   "metadata": {},
   "outputs": [],
   "source": [
    "X = np.load('data/X_bank.npy')\n",
    "# need to add allow_pickle=True parameter\n",
    "y = np.load('data/y_bank.npy', allow_pickle=True)\n",
    "bp = np.load('data/bp_bank.npy',allow_pickle=True)\n",
    "bp = bp.tolist()# 参数集变成列表后参与运算"
   ]
  },
  {
   "cell_type": "code",
   "execution_count": null,
   "metadata": {},
   "outputs": [],
   "source": []
  },
  {
   "cell_type": "code",
   "execution_count": 15,
   "metadata": {},
   "outputs": [],
   "source": [
    "X_train, X_test, y_train, y_test = train_test_split(X, y, random_state=0)"
   ]
  },
  {
   "cell_type": "code",
   "execution_count": 16,
   "metadata": {},
   "outputs": [
    {
     "name": "stdout",
     "output_type": "stream",
     "text": [
      "training time: 436 milliseconds, 844 microseconds and 900 nanoseconds\n",
      "scoring time: 12 seconds, 878 milliseconds, 311 microseconds and 400 nanoseconds\n",
      "KNeighborsClassifier (train, test): 0.9154769997733968 0.9138584053607847\n"
     ]
    }
   ],
   "source": [
    "start = time.perf_counter()\n",
    "knn_model = KNeighborsClassifier(**bp)\n",
    "knn_model.fit(X_train, y_train)\n",
    "see_time('training time:',start)\n",
    "start = time.perf_counter()\n",
    "knn_model_scores = get_scores(knn_model, X_train, y_train,X_test, y_test)\n",
    "see_time('scoring time:',start)\n",
    "print (knn_model_scores[0] + ' (train, test):',knn_model_scores[1], knn_model_scores[2])"
   ]
  },
  {
   "cell_type": "code",
   "execution_count": null,
   "metadata": {},
   "outputs": [],
   "source": []
  },
  {
   "cell_type": "code",
   "execution_count": null,
   "metadata": {},
   "outputs": [],
   "source": []
  },
  {
   "cell_type": "code",
   "execution_count": null,
   "metadata": {},
   "outputs": [],
   "source": []
  }
 ],
 "metadata": {
  "kernelspec": {
   "display_name": "Python 3",
   "language": "python",
   "name": "python3"
  },
  "language_info": {
   "codemirror_mode": {
    "name": "ipython",
    "version": 3
   },
   "file_extension": ".py",
   "mimetype": "text/x-python",
   "name": "python",
   "nbconvert_exporter": "python",
   "pygments_lexer": "ipython3",
   "version": "3.7.4"
  }
 },
 "nbformat": 4,
 "nbformat_minor": 2
}
