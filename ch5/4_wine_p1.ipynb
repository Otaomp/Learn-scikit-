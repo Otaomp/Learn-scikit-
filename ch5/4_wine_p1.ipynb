{
 "cells": [
  {
   "cell_type": "code",
   "execution_count": 1,
   "metadata": {},
   "outputs": [],
   "source": [
    "import numpy as np, random\n",
    "from sklearn.datasets import load_wine\n",
    "from sklearn.preprocessing import StandardScaler\n",
    "from sklearn.discriminant_analysis import LinearDiscriminantAnalysis as LDA\n",
    "from sklearn.linear_model import SGDClassifier\n",
    "from sklearn.model_selection import train_test_split,cross_val_score\n",
    "from sklearn import metrics"
   ]
  },
  {
   "cell_type": "code",
   "execution_count": 2,
   "metadata": {},
   "outputs": [],
   "source": [
    "def get_cross(model, data, target, groups=10):\n",
    "    return cross_val_score(model, data, target, cv=groups)"
   ]
  },
  {
   "cell_type": "code",
   "execution_count": 3,
   "metadata": {},
   "outputs": [],
   "source": [
    "wine = load_wine()\n",
    "X = wine.data\n",
    "y = wine.target\n",
    "X_train, X_test, y_train, y_test = train_test_split(X, y, random_state=0)"
   ]
  },
  {
   "cell_type": "code",
   "execution_count": 5,
   "metadata": {},
   "outputs": [],
   "source": [
    "lda_model = LDA().fit(X_train, y_train)\n",
    "lda_model_name = lda_model.__class__.__name__\n",
    "y_pred = lda_model.predict(X_train)"
   ]
  },
  {
   "cell_type": "code",
   "execution_count": 6,
   "metadata": {},
   "outputs": [
    {
     "name": "stdout",
     "output_type": "stream",
     "text": [
      "LinearDiscriminantAnalysis:\n",
      "train: 1.0\n",
      "test:  0.9777777777777777\n"
     ]
    }
   ],
   "source": [
    "train_score = metrics.accuracy_score(y_train, y_pred)\n",
    "print (lda_model_name + ':\\ntrain:', train_score)\n",
    "y_pred_test = lda_model.predict(X_test)\n",
    "test_score = metrics.accuracy_score(y_test, y_pred_test)\n",
    "print ('test: ',test_score)"
   ]
  },
  {
   "cell_type": "code",
   "execution_count": 7,
   "metadata": {},
   "outputs": [
    {
     "name": "stdout",
     "output_type": "stream",
     "text": [
      "cross-validation: 0.9832989336085312\n"
     ]
    }
   ],
   "source": [
    "scores = get_cross(lda, X, y)\n",
    "print ('cross-validation:',np.mean(scores))"
   ]
  },
  {
   "cell_type": "code",
   "execution_count": 9,
   "metadata": {},
   "outputs": [
    {
     "name": "stdout",
     "output_type": "stream",
     "text": [
      "MCS 0.9777777777777754\n"
     ]
    }
   ],
   "source": [
    "n, ls = 100, []\n",
    "for i, row in enumerate(range(n)):\n",
    "    rs = random.randint(1, 100)\n",
    "    lda_model = LDA().fit(X_train, y_train)\n",
    "    y_pred = lda_model.predict(X_test)\n",
    "    accuracy = metrics.accuracy_score(y_test, y_pred)\n",
    "    ls.append(accuracy)\n",
    "avg = sum(ls) / len(ls)\n",
    "print ('MCS',avg)"
   ]
  },
  {
   "cell_type": "code",
   "execution_count": 11,
   "metadata": {},
   "outputs": [
    {
     "name": "stdout",
     "output_type": "stream",
     "text": [
      "SGDClassifier:\n",
      "train: 99.25%\n",
      "test:  100.00%\n",
      "\n"
     ]
    }
   ],
   "source": [
    "X = StandardScaler().fit_transform(X)\n",
    "X_train, X_test, y_train, y_test = train_test_split(X, y, random_state=0)\n",
    "sgd_model = SGDClassifier(max_iter=100, random_state=1)\n",
    "sgd_model.fit(X_train, y_train)\n",
    "sgd_model_name = sgd_model.__class__.__name__\n",
    "y_pred = sgd_model.predict(X_train)\n",
    "y_pred_test = sgd_model.predict(X_test)\n",
    "print (sgd_model_name + ':')\n",
    "print('train: {:.2%}'.format(metrics.accuracy_score(y_train, y_pred)))\n",
    "print('test:  {:.2%}\\n'.format(metrics.accuracy_score(y_test, y_pred_test)))"
   ]
  },
  {
   "cell_type": "code",
   "execution_count": 13,
   "metadata": {},
   "outputs": [
    {
     "name": "stdout",
     "output_type": "stream",
     "text": [
      "cross-validation: 0.9614035087719298\n"
     ]
    }
   ],
   "source": [
    "scores = get_cross(sgd_model, X, y)\n",
    "print('cross-validation:',np.mean(scores))"
   ]
  },
  {
   "cell_type": "code",
   "execution_count": 14,
   "metadata": {},
   "outputs": [
    {
     "name": "stdout",
     "output_type": "stream",
     "text": [
      "MCS: 0.9899999999999993\n"
     ]
    }
   ],
   "source": [
    "n, ls = 100, []\n",
    "for i, row in enumerate(range(n)):\n",
    "    rs = random.randint(1, 100)\n",
    "    sgd_model = SGDClassifier(max_iter=100).fit(X_train, y_train)\n",
    "    y_pred = sgd_model.predict(X_test)\n",
    "    accuracy = metrics.accuracy_score(y_test, y_pred)\n",
    "    ls.append(accuracy)\n",
    "avg = sum(ls) / len(ls)\n",
    "print ('MCS:',avg)"
   ]
  },
  {
   "cell_type": "code",
   "execution_count": null,
   "metadata": {},
   "outputs": [],
   "source": []
  }
 ],
 "metadata": {
  "kernelspec": {
   "display_name": "Python 3",
   "language": "python",
   "name": "python3"
  },
  "language_info": {
   "codemirror_mode": {
    "name": "ipython",
    "version": 3
   },
   "file_extension": ".py",
   "mimetype": "text/x-python",
   "name": "python",
   "nbconvert_exporter": "python",
   "pygments_lexer": "ipython3",
   "version": "3.7.4"
  }
 },
 "nbformat": 4,
 "nbformat_minor": 2
}
