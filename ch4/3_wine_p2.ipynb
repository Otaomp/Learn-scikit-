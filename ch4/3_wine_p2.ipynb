{
 "cells": [
  {
   "cell_type": "code",
   "execution_count": 24,
   "metadata": {},
   "outputs": [],
   "source": [
    "import numpy as np, pandas as pd\n",
    "from sklearn.ensemble import RandomForestRegressor\n",
    "from sklearn.model_selection import train_test_split\n",
    "from sklearn.linear_model import LinearRegression,Ridge, Lasso, ElasticNet, SGDRegressor\n",
    "from sklearn.metrics import mean_squared_error\n",
    "from sklearn.preprocessing import StandardScaler\n",
    "from sklearn.preprocessing import PolynomialFeatures\n",
    "from sklearn.pipeline import Pipeline\n",
    "import matplotlib.pyplot as plt, seaborn as sns"
   ]
  },
  {
   "cell_type": "code",
   "execution_count": 25,
   "metadata": {},
   "outputs": [],
   "source": [
    "def get_scores(model, Xtest, ytest):\n",
    "    y_pred = model.predict(Xtest)\n",
    "    return np.sqrt(mean_squared_error(ytest, y_pred)),model.__class__.__name__"
   ]
  },
  {
   "cell_type": "code",
   "execution_count": 26,
   "metadata": {},
   "outputs": [],
   "source": [
    "X = np.load('data/X_red.npy')\n",
    "y = np.load('data/y_red.npy')\n",
    "X_train, X_test, y_train, y_test =  train_test_split(X, y, test_size=0.2, random_state=0)"
   ]
  },
  {
   "cell_type": "code",
   "execution_count": 27,
   "metadata": {},
   "outputs": [],
   "source": [
    "d = dict()"
   ]
  },
  {
   "cell_type": "code",
   "execution_count": 28,
   "metadata": {},
   "outputs": [
    {
     "name": "stdout",
     "output_type": "stream",
     "text": [
      "RMSE: 0.5694654840286635 RandomForestRegressor\n"
     ]
    }
   ],
   "source": [
    "rfr_model = RandomForestRegressor(random_state=0,n_estimators=100)\n",
    "rfr_model.fit(X_train, y_train)\n",
    "rmse, rfr_model_name = get_scores(rfr_model, X_test, y_test)\n",
    "d['rfr_model'] = [rmse]\n",
    "print(\"RMSE:\",rmse,rfr_model_name)"
   ]
  },
  {
   "cell_type": "code",
   "execution_count": 29,
   "metadata": {},
   "outputs": [
    {
     "name": "stdout",
     "output_type": "stream",
     "text": [
      "RMSE: 0.6200574149384265 (LinearRegression)\n"
     ]
    }
   ],
   "source": [
    "lr_model = LinearRegression().fit(X_train, y_train)\n",
    "rmse, lr_model_name = get_scores(lr_model, X_test, y_test)\n",
    "d['lr_model'] = [rmse]\n",
    "print(\"RMSE:\",rmse, '(' + lr_model_name + ')')"
   ]
  },
  {
   "cell_type": "code",
   "execution_count": 30,
   "metadata": {},
   "outputs": [
    {
     "name": "stdout",
     "output_type": "stream",
     "text": [
      "RMSE: 0.6185762657415645 (Ridge)\n"
     ]
    }
   ],
   "source": [
    "ridge_model = Ridge(random_state=0).fit(X_train, y_train)\n",
    "rmse, ridge_model_name = get_scores(ridge_model, X_test, y_test)\n",
    "d['ridge_model'] = [rmse]\n",
    "print(\"RMSE:\",rmse, '(' + ridge_model_name + ')')"
   ]
  },
  {
   "cell_type": "code",
   "execution_count": 31,
   "metadata": {},
   "outputs": [
    {
     "name": "stdout",
     "output_type": "stream",
     "text": [
      "RMSE: 0.7455442007369433 (Lasso)\n"
     ]
    }
   ],
   "source": [
    "lasso_model = Lasso(random_state=0).fit(X_train, y_train)\n",
    "rmse, lasso_model_name = get_scores(lasso_model, X_test, y_test)\n",
    "d['lasso_model'] = [rmse]\n",
    "print(\"RMSE:\",rmse, '(' + lasso_model_name + ')')"
   ]
  },
  {
   "cell_type": "code",
   "execution_count": 32,
   "metadata": {},
   "outputs": [
    {
     "name": "stdout",
     "output_type": "stream",
     "text": [
      "RMSE: 0.7450232657227877 (ElasticNet)\n"
     ]
    },
    {
     "data": {
      "text/plain": [
       "{'rfr_model': [0.5694654840286635],\n",
       " 'lr_model': [0.6200574149384265],\n",
       " 'ridge_model': [0.6185762657415645],\n",
       " 'lasso_model': [0.7455442007369433],\n",
       " 'eN_model': [0.7450232657227877]}"
      ]
     },
     "execution_count": 32,
     "metadata": {},
     "output_type": "execute_result"
    }
   ],
   "source": [
    "eN_model = ElasticNet(random_state=0).fit(X_train, y_train)\n",
    "rmse, eN_model_name = get_scores(eN_model, X_test, y_test)\n",
    "d['eN_model'] = [rmse]\n",
    "print(\"RMSE:\",rmse, '(' + eN_model_name + ')')\n",
    "d"
   ]
  },
  {
   "cell_type": "code",
   "execution_count": 34,
   "metadata": {},
   "outputs": [
    {
     "name": "stdout",
     "output_type": "stream",
     "text": [
      "RMSE: 51120537008.37402 (SGDRegressor)\n"
     ]
    }
   ],
   "source": [
    "sgdr_model = SGDRegressor(random_state=0, max_iter=1000,tol=0.001)\n",
    "sgdr_model.fit(X_train, y_train)\n",
    "rmse, sgdr_model_name = get_scores(sgdr_model, X_test, y_test)\n",
    "print(\"RMSE:\",rmse, '(' + sgdr_model_name + ')')"
   ]
  },
  {
   "cell_type": "code",
   "execution_count": 35,
   "metadata": {},
   "outputs": [],
   "source": [
    "scaler = StandardScaler()\n",
    "X_train_std = scaler.fit_transform(X_train)\n",
    "X_test_std = scaler.fit_transform(X_test)"
   ]
  },
  {
   "cell_type": "code",
   "execution_count": 36,
   "metadata": {},
   "outputs": [
    {
     "name": "stdout",
     "output_type": "stream",
     "text": [
      "0.6216027053463464 (LinearRegression)\n"
     ]
    }
   ],
   "source": [
    "lr_std = LinearRegression().fit(X_train_std, y_train)\n",
    "rmse, lr_std_name = get_scores(lr_std, X_test_std, y_test)\n",
    "print (rmse, '(' + lr_std_name + ')')"
   ]
  },
  {
   "cell_type": "code",
   "execution_count": 37,
   "metadata": {},
   "outputs": [
    {
     "name": "stdout",
     "output_type": "stream",
     "text": [
      "0.6215826846730879 (Ridge)\n"
     ]
    }
   ],
   "source": [
    "rr_std = Ridge(random_state=0).fit(X_train_std, y_train)\n",
    "rmse, rr_std_name = get_scores(rr_std, X_test_std, y_test)\n",
    "print (rmse, '(' + rr_std_name + ')')"
   ]
  },
  {
   "cell_type": "code",
   "execution_count": 38,
   "metadata": {},
   "outputs": [
    {
     "name": "stdout",
     "output_type": "stream",
     "text": [
      "0.7584549718351333 (Lasso)\n"
     ]
    }
   ],
   "source": [
    "lasso_std = Lasso(random_state=0).fit(X_train_std, y_train)\n",
    "rmse, lasso_std_name = get_scores(lasso_std,X_test_std, y_test)\n",
    "print (rmse, '(' + lasso_std_name + ')')"
   ]
  },
  {
   "cell_type": "code",
   "execution_count": 39,
   "metadata": {},
   "outputs": [
    {
     "name": "stdout",
     "output_type": "stream",
     "text": [
      "0.7584549718351333 (ElasticNet)\n"
     ]
    }
   ],
   "source": [
    "en_std = ElasticNet(random_state=0).fit(X_train_std,y_train)\n",
    "rmse, en_std_name = get_scores(en_std,X_test_std, y_test)\n",
    "print (rmse, '(' + en_std_name + ')')"
   ]
  },
  {
   "cell_type": "code",
   "execution_count": 40,
   "metadata": {},
   "outputs": [
    {
     "name": "stdout",
     "output_type": "stream",
     "text": [
      "0.6234205584462227 (SGDRegressor)\n"
     ]
    }
   ],
   "source": [
    "sgdr_std = SGDRegressor(random_state=0, max_iter=1000,tol=0.001)\n",
    "sgdr_std.fit(X_train_std, y_train)\n",
    "rmse, sgdr_std_name = get_scores(sgdr_std, X_test_std,y_test)\n",
    "d['sgdr_std'] = [rmse]\n",
    "print (rmse, '(' + sgdr_std_name + ')')"
   ]
  },
  {
   "cell_type": "code",
   "execution_count": 41,
   "metadata": {},
   "outputs": [
    {
     "name": "stdout",
     "output_type": "stream",
     "text": [
      "PolynomialFeatures (rmse):\n",
      "0.6382400985407316 (Pipeline)\n"
     ]
    }
   ],
   "source": [
    "pipe = Pipeline([('poly', PolynomialFeatures(degree=2)),('linear', LinearRegression())])\n",
    "model = pipe.fit(X_train, y_train)\n",
    "rmse, poly_name = get_scores(model, X_test, y_test)\n",
    "d['poly'] = [rmse]\n",
    "print (PolynomialFeatures().__class__.__name__, '(rmse):')\n",
    "print (rmse, '(' + poly_name + ')')"
   ]
  },
  {
   "cell_type": "code",
   "execution_count": 44,
   "metadata": {},
   "outputs": [
    {
     "data": {
      "text/plain": [
       "Text(0, 0.5, 'RMSE')"
      ]
     },
     "execution_count": 44,
     "metadata": {},
     "output_type": "execute_result"
    },
    {
     "data": {
      "image/png": "[encoded data removed]",
      "text/plain": [
       "<Figure size 720x720 with 1 Axes>"
      ]
     },
     "metadata": {},
     "output_type": "display_data"
    }
   ],
   "source": [
    "algo, rmse = [], []\n",
    "for key, value in d.items():\n",
    "    algo.append(key)\n",
    "    rmse.append(value[0])\n",
    "plt.figure('RMSE',figsize=(10,10))\n",
    "sns.set(style=\"whitegrid\")\n",
    "ax = sns.barplot(algo, rmse)\n",
    "plt.title('Red Wine Algorithm Comparison')\n",
    "plt.xlabel('regressor')\n",
    "plt.ylabel('RMSE')"
   ]
  },
  {
   "cell_type": "code",
   "execution_count": null,
   "metadata": {},
   "outputs": [],
   "source": []
  }
 ],
 "metadata": {
  "kernelspec": {
   "display_name": "Python 3",
   "language": "python",
   "name": "python3"
  },
  "language_info": {
   "codemirror_mode": {
    "name": "ipython",
    "version": 3
   },
   "file_extension": ".py",
   "mimetype": "text/x-python",
   "name": "python",
   "nbconvert_exporter": "python",
   "pygments_lexer": "ipython3",
   "version": "3.7.4"
  }
 },
 "nbformat": 4,
 "nbformat_minor": 2
}
