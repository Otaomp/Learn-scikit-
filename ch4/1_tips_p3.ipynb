{
 "cells": [
  {
   "cell_type": "code",
   "execution_count": 1,
   "metadata": {},
   "outputs": [],
   "source": [
    "import numpy as np\n",
    "from sklearn.linear_model import LinearRegression, Ridge,Lasso, ElasticNet, SGDRegressor\n",
    "from sklearn.model_selection import train_test_split\n",
    "from sklearn.metrics import mean_squared_error\n",
    "from sklearn.preprocessing import StandardScaler"
   ]
  },
  {
   "cell_type": "code",
   "execution_count": 2,
   "metadata": {},
   "outputs": [],
   "source": [
    "def get_scores(model, Xtest, ytest):\n",
    "    y_pred = model.predict(Xtest)\n",
    "    return np.sqrt(mean_squared_error(ytest, y_pred)),model.__class__.__name__"
   ]
  },
  {
   "cell_type": "code",
   "execution_count": 3,
   "metadata": {},
   "outputs": [],
   "source": [
    "X = np.load('data/X_tips.npy')\n",
    "y = np.load('data/y_tips.npy')\n",
    "X_train, X_test, y_train, y_test = train_test_split(X, y, random_state=0)"
   ]
  },
  {
   "cell_type": "code",
   "execution_count": 5,
   "metadata": {},
   "outputs": [
    {
     "name": "stdout",
     "output_type": "stream",
     "text": [
      "RMSE: 0.9474705746817211 (LinearRegression)\n"
     ]
    }
   ],
   "source": [
    "lr_model = LinearRegression().fit(X_train, y_train)\n",
    "rmse, lr_model_name = get_scores(lr_model, X_test, y_test)\n",
    "print(\"RMSE:\",rmse, '(' + lr_model_name + ')')"
   ]
  },
  {
   "cell_type": "code",
   "execution_count": 6,
   "metadata": {},
   "outputs": [
    {
     "name": "stdout",
     "output_type": "stream",
     "text": [
      "RMSE: 0.9469115898683897 (Ridge)\n"
     ]
    }
   ],
   "source": [
    "rideg_model = Ridge(random_state=0).fit(X_train, y_train)\n",
    "rmse, rideg_model_name = get_scores(rideg_model, X_test, y_test)\n",
    "print(\"RMSE:\",rmse, '(' + rideg_model_name + ')')"
   ]
  },
  {
   "cell_type": "code",
   "execution_count": 7,
   "metadata": {},
   "outputs": [
    {
     "name": "stdout",
     "output_type": "stream",
     "text": [
      "RMSE: 0.9439950256305222 (Lasso)\n"
     ]
    }
   ],
   "source": [
    "lasso_model = Lasso(random_state=0).fit(X_train, y_train)\n",
    "rmse, lasso_model_name = get_scores(lasso_model, X_test, y_test)\n",
    "print(\"RMSE:\",rmse, '(' + lasso_model_name + ')')"
   ]
  },
  {
   "cell_type": "code",
   "execution_count": 9,
   "metadata": {},
   "outputs": [
    {
     "name": "stdout",
     "output_type": "stream",
     "text": [
      "RMSE 0.9307377813721576 (ElasticNet)\n"
     ]
    }
   ],
   "source": [
    "eN_model = ElasticNet(random_state=0).fit(X_train, y_train)\n",
    "rmse, eN_model_name = get_scores(eN_model, X_test, y_test)\n",
    "print(\"RMSE\",rmse, '(' + eN_model_name + ')')"
   ]
  },
  {
   "cell_type": "code",
   "execution_count": 10,
   "metadata": {},
   "outputs": [
    {
     "name": "stdout",
     "output_type": "stream",
     "text": [
      "RMSE 1.7005504977258326 (SGDRegressor)\n"
     ]
    }
   ],
   "source": [
    "sgdr_model = SGDRegressor(random_state=0,max_iter=1000, tol=0.001)\n",
    "sgdr_model.fit(X_train, y_train)\n",
    "rmse, sgdr_model_name = get_scores(sgdr_model, X_test, y_test)\n",
    "print(\"RMSE\",rmse, '(' + sgdr_model_name + ')')"
   ]
  },
  {
   "cell_type": "code",
   "execution_count": 11,
   "metadata": {},
   "outputs": [],
   "source": [
    "scaler = StandardScaler()\n",
    "X_train_std = scaler.fit_transform(X_train)\n",
    "X_test_std = scaler.fit_transform(X_test)"
   ]
  },
  {
   "cell_type": "code",
   "execution_count": 12,
   "metadata": {},
   "outputs": [
    {
     "name": "stdout",
     "output_type": "stream",
     "text": [
      "RMSE std 0.900775117788149 (LinearRegression)\n"
     ]
    }
   ],
   "source": [
    "lr_model_std = LinearRegression().fit(X_train_std, y_train)\n",
    "rmse, lr_model_name = get_scores(lr_model_std, X_test_std, y_test)\n",
    "print(\"RMSE std\",rmse, '(' + lr_model_name + ')')"
   ]
  },
  {
   "cell_type": "code",
   "execution_count": 14,
   "metadata": {},
   "outputs": [
    {
     "name": "stdout",
     "output_type": "stream",
     "text": [
      "RMSE std 0.9014055340745654 (Ridge)\n"
     ]
    }
   ],
   "source": [
    "rideg_model_std = Ridge(random_state=0).fit(X_train_std, y_train)\n",
    "rmse, rideg_model_name = get_scores(rideg_model_std, X_test_std, y_test)\n",
    "print(\"RMSE std\",rmse, '(' + rideg_model_name + ')')"
   ]
  },
  {
   "cell_type": "code",
   "execution_count": 17,
   "metadata": {},
   "outputs": [
    {
     "name": "stdout",
     "output_type": "stream",
     "text": [
      "RMSE srd: 1.333812899498391 (Lasso)\n"
     ]
    }
   ],
   "source": [
    "lasso_model_std = Lasso(random_state=0).fit(X_train_std, y_train)\n",
    "rmse, lasso_model_name = get_scores(lasso_model_std, X_test_std, y_test)\n",
    "print(\"RMSE srd:\",rmse, '(' + lasso_model_name + ')')"
   ]
  },
  {
   "cell_type": "code",
   "execution_count": null,
   "metadata": {},
   "outputs": [],
   "source": [
    "eN_model_std = ElasticNet(random_state=0)\n",
    "eN_model_std.fit(X_train_std, y_train)\n",
    "rmse, en_name = get_scores(eN_model_std, X_test_std, y_test)\n",
    "print(\"RMSE srd:\",rmse, '(' + lasso_model_name + ')')"
   ]
  },
  {
   "cell_type": "code",
   "execution_count": null,
   "metadata": {},
   "outputs": [],
   "source": [
    "sgdr_std = SGDRegressor(random_state=0,max_iter=1000, tol=0.001)\n",
    "sgdr_std.fit(X_train_std, y_train)\n",
    "rmse, sgdr_name = get_scores(sgdr_std, X_test_std, y_test)\n",
    "print(\"RMSE srd:\",rmse, '(' + lasso_model_name + ')')"
   ]
  },
  {
   "cell_type": "code",
   "execution_count": null,
   "metadata": {},
   "outputs": [],
   "source": []
  }
 ],
 "metadata": {
  "kernelspec": {
   "display_name": "Python 3",
   "language": "python",
   "name": "python3"
  },
  "language_info": {
   "codemirror_mode": {
    "name": "ipython",
    "version": 3
   },
   "file_extension": ".py",
   "mimetype": "text/x-python",
   "name": "python",
   "nbconvert_exporter": "python",
   "pygments_lexer": "ipython3",
   "version": "3.7.4"
  }
 },
 "nbformat": 4,
 "nbformat_minor": 2
}
