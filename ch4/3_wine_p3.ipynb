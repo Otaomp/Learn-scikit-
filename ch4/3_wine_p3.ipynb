{
 "cells": [
  {
   "cell_type": "code",
   "execution_count": 2,
   "metadata": {},
   "outputs": [],
   "source": [
    "import numpy as np, pandas as pd\n",
    "from sklearn.model_selection import train_test_split\n",
    "from sklearn.linear_model import LinearRegression\n",
    "from sklearn.metrics import mean_squared_error\n",
    "from sklearn.preprocessing import PolynomialFeatures\n",
    "'''\n",
    "使用sklearn.preprocessing.PolynomialFeatures来进行特征的构造。使用多项式的方法来进行的\n",
    "'''"
   ]
  },
  {
   "cell_type": "code",
   "execution_count": 3,
   "metadata": {},
   "outputs": [],
   "source": [
    "def get_scores(model, Xtest, ytest):\n",
    "    y_pred = model.predict(Xtest)\n",
    "    return np.sqrt(mean_squared_error(ytest, y_pred)),model.__class__.__name__"
   ]
  },
  {
   "cell_type": "code",
   "execution_count": 4,
   "metadata": {},
   "outputs": [],
   "source": [
    "X = np.load('data/X_red.npy')\n",
    "y = np.load('data/y_red.npy')\n",
    "X_train, X_test, y_train, y_test =  train_test_split(X, y, test_size=0.2, random_state=0)"
   ]
  },
  {
   "cell_type": "code",
   "execution_count": 5,
   "metadata": {},
   "outputs": [],
   "source": [
    "poly = PolynomialFeatures(degree=2)\n",
    "poly.fit(X_train, y_train)\n",
    "X_train_poly = poly.transform(X_train)"
   ]
  },
  {
   "cell_type": "code",
   "execution_count": 6,
   "metadata": {},
   "outputs": [
    {
     "name": "stdout",
     "output_type": "stream",
     "text": [
      "0.6382400985407316 (squared polynomial fitting)\n"
     ]
    }
   ],
   "source": [
    "lr = LinearRegression().fit(X_train_poly, y_train)\n",
    "X_test_poly = poly.transform(X_test)\n",
    "rmse, lr_name = get_scores(lr, X_test_poly, y_test)\n",
    "print (rmse, '(squared polynomial fitting)')"
   ]
  },
  {
   "cell_type": "code",
   "execution_count": 7,
   "metadata": {},
   "outputs": [],
   "source": [
    "poly = PolynomialFeatures(degree=3)\n",
    "poly.fit(X_train, y_train)\n",
    "X_train_poly = poly.transform(X_train)"
   ]
  },
  {
   "cell_type": "code",
   "execution_count": 9,
   "metadata": {},
   "outputs": [
    {
     "name": "stdout",
     "output_type": "stream",
     "text": [
      "0.8285404888043607 (cubic polynomial fitting)\n"
     ]
    }
   ],
   "source": [
    "lr = LinearRegression().fit(X_train_poly, y_train)\n",
    "X_test_poly = poly.transform(X_test)\n",
    "rmse, lr_name = get_scores(lr, X_test_poly, y_test)\n",
    "print (rmse, '(cubic polynomial fitting)')"
   ]
  },
  {
   "cell_type": "code",
   "execution_count": 10,
   "metadata": {},
   "outputs": [],
   "source": [
    "poly = PolynomialFeatures(degree=4)\n",
    "poly.fit(X_train, y_train)\n",
    "X_train_poly = poly.transform(X_train)"
   ]
  },
  {
   "cell_type": "code",
   "execution_count": 11,
   "metadata": {},
   "outputs": [
    {
     "name": "stdout",
     "output_type": "stream",
     "text": [
      "99.06466823247949 (quartic polynomial fitting)\n"
     ]
    }
   ],
   "source": [
    "lr = LinearRegression().fit(X_train_poly, y_train)\n",
    "X_test_poly = poly.transform(X_test)\n",
    "rmse, lr_name = get_scores(lr, X_test_poly, y_test)\n",
    "print (rmse, '(quartic polynomial fitting)')"
   ]
  },
  {
   "cell_type": "code",
   "execution_count": null,
   "metadata": {},
   "outputs": [],
   "source": []
  }
 ],
 "metadata": {
  "kernelspec": {
   "display_name": "Python 3",
   "language": "python",
   "name": "python3"
  },
  "language_info": {
   "codemirror_mode": {
    "name": "ipython",
    "version": 3
   },
   "file_extension": ".py",
   "mimetype": "text/x-python",
   "name": "python",
   "nbconvert_exporter": "python",
   "pygments_lexer": "ipython3",
   "version": "3.7.4"
  }
 },
 "nbformat": 4,
 "nbformat_minor": 2
}
