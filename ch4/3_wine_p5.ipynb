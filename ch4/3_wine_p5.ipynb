{
 "cells": [
  {
   "cell_type": "code",
   "execution_count": 1,
   "metadata": {},
   "outputs": [],
   "source": [
    "import numpy as np, pandas as pd\n",
    "from sklearn.ensemble import RandomForestRegressor\n",
    "from sklearn.model_selection import train_test_split\n",
    "from sklearn.linear_model import LinearRegression,Ridge, Lasso, ElasticNet, SGDRegressor\n",
    "from sklearn.metrics import mean_squared_error\n",
    "from sklearn.preprocessing import StandardScaler\n",
    "from sklearn.preprocessing import PolynomialFeatures\n",
    "from sklearn.pipeline import Pipeline\n",
    "import matplotlib.pyplot as plt, seaborn as sns"
   ]
  },
  {
   "cell_type": "code",
   "execution_count": 2,
   "metadata": {},
   "outputs": [],
   "source": [
    "def get_scores(model, Xtest, ytest):\n",
    "    y_pred = model.predict(Xtest)\n",
    "    return np.sqrt(mean_squared_error(ytest, y_pred)),model.__class__.__name__"
   ]
  },
  {
   "cell_type": "code",
   "execution_count": 3,
   "metadata": {},
   "outputs": [],
   "source": [
    "X = np.load('data/X_white.npy')\n",
    "y = np.load('data/y_white.npy')\n",
    "X_train, X_test, y_train, y_test =  train_test_split(X, y, test_size=0.2, random_state=0)"
   ]
  },
  {
   "cell_type": "code",
   "execution_count": 4,
   "metadata": {},
   "outputs": [],
   "source": [
    "d = dict()"
   ]
  },
  {
   "cell_type": "code",
   "execution_count": 5,
   "metadata": {},
   "outputs": [
    {
     "name": "stdout",
     "output_type": "stream",
     "text": [
      "RMSE: 0.687111151629689 (RandomForestRegressor)\n"
     ]
    }
   ],
   "source": [
    "rfr_model = RandomForestRegressor(random_state=0,n_estimators=100)\n",
    "rfr_model.fit(X_train, y_train)\n",
    "rmse, rfr_model_name = get_scores(rfr_model, X_test, y_test)\n",
    "d['rfr_model'] = [rmse]\n",
    "print(\"RMSE:\",rmse, '(' + rfr_model_name + ')')"
   ]
  },
  {
   "cell_type": "code",
   "execution_count": 6,
   "metadata": {},
   "outputs": [
    {
     "name": "stdout",
     "output_type": "stream",
     "text": [
      "RMSE: 0.8123086554972442 (LinearRegression)\n"
     ]
    }
   ],
   "source": [
    "lr_model = LinearRegression().fit(X_train, y_train)\n",
    "rmse, lr_model_name = get_scores(lr_model, X_test, y_test)\n",
    "d['lr_model'] = [rmse]\n",
    "print(\"RMSE:\",rmse, '(' + lr_model_name + ')')"
   ]
  },
  {
   "cell_type": "code",
   "execution_count": 7,
   "metadata": {},
   "outputs": [
    {
     "name": "stdout",
     "output_type": "stream",
     "text": [
      "RMSE: 0.8141615403447382 (Ridge)\n"
     ]
    }
   ],
   "source": [
    "ridge_model = Ridge(random_state=0).fit(X_train, y_train)\n",
    "rmse, ridge_model_name = get_scores(ridge_model, X_test, y_test)\n",
    "d['ridge_model'] = [rmse]\n",
    "print(\"RMSE:\",rmse, '(' + ridge_model_name + ')')"
   ]
  },
  {
   "cell_type": "code",
   "execution_count": 8,
   "metadata": {},
   "outputs": [
    {
     "name": "stdout",
     "output_type": "stream",
     "text": [
      "RMSE: 0.9255803421282806 (Lasso)\n"
     ]
    }
   ],
   "source": [
    "lasso_model = Lasso(random_state=0).fit(X_train, y_train)\n",
    "rmse, lasso_model_name = get_scores(lasso_model, X_test, y_test)\n",
    "d['lasso_mdel'] = [rmse]\n",
    "print(\"RMSE:\",rmse, '(' + lasso_model_name + ')')"
   ]
  },
  {
   "cell_type": "code",
   "execution_count": 9,
   "metadata": {},
   "outputs": [
    {
     "name": "stdout",
     "output_type": "stream",
     "text": [
      "RMSE: 0.9242810596011943 (ElasticNet)\n"
     ]
    }
   ],
   "source": [
    "eN_model = ElasticNet(random_state=0).fit(X_train, y_train)\n",
    "rmse, eN_model_name = get_scores(eN_model, X_test, y_test)\n",
    "d['eN_model'] = [rmse]\n",
    "print(\"RMSE:\",rmse, '(' + eN_model_name + ')')"
   ]
  },
  {
   "cell_type": "code",
   "execution_count": 10,
   "metadata": {},
   "outputs": [],
   "source": [
    "scaler = StandardScaler()\n",
    "X_train_std = scaler.fit_transform(X_train)\n",
    "X_test_std = scaler.fit_transform(X_test)"
   ]
  },
  {
   "cell_type": "code",
   "execution_count": 11,
   "metadata": {},
   "outputs": [
    {
     "name": "stdout",
     "output_type": "stream",
     "text": [
      "RMSE: 0.8092835779827245 (SGDRegressor)\n"
     ]
    }
   ],
   "source": [
    "sgd_model = SGDRegressor(max_iter=1000, tol=0.001,random_state=0).fit(X_train_std, y_train)\n",
    "rmse, sgd_model_name = get_scores(sgd_model, X_test_std, y_test)\n",
    "d['sgd_model'] = [rmse]\n",
    "print(\"RMSE:\",rmse, '(' + sgd_model_name + ')')"
   ]
  },
  {
   "cell_type": "code",
   "execution_count": 12,
   "metadata": {},
   "outputs": [
    {
     "name": "stdout",
     "output_type": "stream",
     "text": [
      "PolynomialFeatures (rmse):\n",
      "0.7767527797908582 (Pipeline)\n"
     ]
    }
   ],
   "source": [
    "pipe = Pipeline([('poly', PolynomialFeatures(degree=2)),('linear', LinearRegression())])\n",
    "model = pipe.fit(X_train, y_train)# 流水线处理\n",
    "rmse, pf_name = get_scores(model, X_test, y_test)\n",
    "d['poly_model'] = [rmse]\n",
    "print (PolynomialFeatures().__class__.__name__,'(rmse):')\n",
    "print (rmse, '(' + pf_name + ')')"
   ]
  },
  {
   "cell_type": "code",
   "execution_count": 13,
   "metadata": {},
   "outputs": [
    {
     "name": "stdout",
     "output_type": "stream",
     "text": [
      "0.7767527797908582 (without Pipeline)\n"
     ]
    }
   ],
   "source": [
    "poly = PolynomialFeatures(degree=2)\n",
    "poly.fit(X_train, y_train)\n",
    "X_train_poly = poly.transform(X_train)\n",
    "X_test_poly = poly.transform(X_test)\n",
    "lr = LinearRegression().fit(X_train_poly, y_train)\n",
    "rmse, lr_name = get_scores(lr, X_test_poly, y_test)\n",
    "print (rmse, '(without Pipeline)')"
   ]
  },
  {
   "cell_type": "code",
   "execution_count": 14,
   "metadata": {},
   "outputs": [
    {
     "data": {
      "text/plain": [
       "Text(0, 0.5, 'RMSE')"
      ]
     },
     "execution_count": 14,
     "metadata": {},
     "output_type": "execute_result"
    },
    {
     "data": {
      "image/png": "[encoded data removed]",
      "text/plain": [
       "<Figure size 720x720 with 1 Axes>"
      ]
     },
     "metadata": {
      "needs_background": "light"
     },
     "output_type": "display_data"
    }
   ],
   "source": [
    "algo, rmse = [], []\n",
    "for key, value in d.items():\n",
    "    algo.append(key)\n",
    "    rmse.append(value[0])\n",
    "plt.figure('RMSE',figsize=(10,10))\n",
    "sns.set(style=\"whitegrid\")\n",
    "ax = sns.barplot(algo, rmse)# 用数据画图\n",
    "plt.title('White Wine Algorithm Comparison')\n",
    "plt.xlabel('regressor')\n",
    "plt.ylabel('RMSE')"
   ]
  },
  {
   "cell_type": "code",
   "execution_count": null,
   "metadata": {},
   "outputs": [],
   "source": []
  },
  {
   "cell_type": "code",
   "execution_count": null,
   "metadata": {},
   "outputs": [],
   "source": []
  }
 ],
 "metadata": {
  "kernelspec": {
   "display_name": "Python 3",
   "language": "python",
   "name": "python3"
  },
  "language_info": {
   "codemirror_mode": {
    "name": "ipython",
    "version": 3
   },
   "file_extension": ".py",
   "mimetype": "text/x-python",
   "name": "python",
   "nbconvert_exporter": "python",
   "pygments_lexer": "ipython3",
   "version": "3.7.4"
  }
 },
 "nbformat": 4,
 "nbformat_minor": 2
}
