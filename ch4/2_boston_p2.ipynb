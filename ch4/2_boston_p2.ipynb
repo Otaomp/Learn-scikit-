{
 "cells": [
  {
   "cell_type": "code",
   "execution_count": 1,
   "metadata": {},
   "outputs": [],
   "source": [
    "import numpy as np\n",
    "from sklearn.datasets import load_boston\n",
    "from sklearn.model_selection import train_test_split\n",
    "from sklearn.linear_model import LinearRegression, Ridge,Lasso, ElasticNet, SGDRegressor\n",
    "from sklearn.ensemble import RandomForestRegressor\n",
    "from sklearn.metrics import mean_squared_error\n",
    "from sklearn.preprocessing import StandardScaler"
   ]
  },
  {
   "cell_type": "code",
   "execution_count": 2,
   "metadata": {},
   "outputs": [],
   "source": [
    "def get_scores(model, Xtest, ytest):\n",
    "    y_pred = model.predict(Xtest)\n",
    "    return np.sqrt(mean_squared_error(ytest, y_pred)),model.__class__.__name__"
   ]
  },
  {
   "cell_type": "code",
   "execution_count": 4,
   "metadata": {},
   "outputs": [
    {
     "name": "stdout",
     "output_type": "stream",
     "text": [
      "feature shape (506, 13)\n",
      "target shape (506,)\n"
     ]
    }
   ],
   "source": [
    "X = np.load('data/X_boston.npy')\n",
    "y = np.load('data/y_boston.npy')\n",
    "print ('feature shape', X.shape)\n",
    "print ('target shape', y.shape)"
   ]
  },
  {
   "cell_type": "code",
   "execution_count": 7,
   "metadata": {},
   "outputs": [
    {
     "name": "stdout",
     "output_type": "stream",
     "text": [
      "RMSE: 4.091149842219918 (RandomForestRegressor)\n"
     ]
    }
   ],
   "source": [
    "X_train, X_test, y_train, y_test = train_test_split(X, y, random_state=0)\n",
    "rfr_model = RandomForestRegressor(random_state=0,n_estimators=100)\n",
    "rfr_model.fit(X_train,y_train)\n",
    "rmse,rfr_model_name = get_scores(rfr_model,X_test,y_test)\n",
    "print(\"RMSE:\",rmse, '(' + rfr_model_name + ')')"
   ]
  },
  {
   "cell_type": "code",
   "execution_count": 10,
   "metadata": {},
   "outputs": [
    {
     "name": "stdout",
     "output_type": "stream",
     "text": [
      "RMSE: 5.4573111595640755 (LinearRegression)\n"
     ]
    }
   ],
   "source": [
    "lr_model = LinearRegression().fit(X_train, y_train)\n",
    "rmse, lr_model_name = get_scores(lr, X_test, y_test)\n",
    "print(\"RMSE:\",rmse, '(' + lr_model_name + ')')"
   ]
  },
  {
   "cell_type": "code",
   "execution_count": 11,
   "metadata": {},
   "outputs": [
    {
     "name": "stdout",
     "output_type": "stream",
     "text": [
      "RMSE: 5.523126267867209 (Ridge)\n"
     ]
    }
   ],
   "source": [
    "ridge_model = Ridge(random_state=0).fit(X_train, y_train)\n",
    "rmse, ridge_model_name = get_scores(ridge_model, X_test, y_test)\n",
    "print(\"RMSE:\",rmse, '(' + ridge_model_name + ')')"
   ]
  },
  {
   "cell_type": "code",
   "execution_count": 13,
   "metadata": {},
   "outputs": [
    {
     "name": "stdout",
     "output_type": "stream",
     "text": [
      "RMSE: 6.052422661571132 (Lasso)\n"
     ]
    }
   ],
   "source": [
    "lasso_model = Lasso(random_state=0).fit(X_train, y_train)\n",
    "rmse, lasso_model_name = get_scores(lasso_model, X_test, y_test)\n",
    "print(\"RMSE:\",rmse, '(' + lasso_model_name + ')')"
   ]
  },
  {
   "cell_type": "code",
   "execution_count": 16,
   "metadata": {},
   "outputs": [
    {
     "name": "stdout",
     "output_type": "stream",
     "text": [
      "RMSE: 5.993473468736907 (ElasticNet)\n"
     ]
    }
   ],
   "source": [
    "eN_model = ElasticNet(random_state=0).fit(X_train, y_train)\n",
    "rmse, eN_model_name = get_scores(eN_model, X_test, y_test)\n",
    "print(\"RMSE:\",rmse, '(' + eN_model_name + ')')"
   ]
  },
  {
   "cell_type": "code",
   "execution_count": 17,
   "metadata": {},
   "outputs": [
    {
     "name": "stdout",
     "output_type": "stream",
     "text": [
      "5.614093877555352 (SGDRegressor - scaled)\n"
     ]
    }
   ],
   "source": [
    "scaler = StandardScaler()\n",
    "X_train_std = scaler.fit_transform(X_train)\n",
    "X_test_std = scaler.fit_transform(X_test)\n",
    "sgdr_std_model = SGDRegressor(random_state=0,max_iter=1000, tol=0.001)\n",
    "sgdr_std_model.fit(X_train_std, y_train)\n",
    "rmse, sgdr_model_name = get_scores(sgdr_std_model, X_test_std, y_test)\n",
    "print (rmse, '(' + sgdr_name + ' - scaled)')"
   ]
  },
  {
   "cell_type": "code",
   "execution_count": null,
   "metadata": {},
   "outputs": [],
   "source": []
  }
 ],
 "metadata": {
  "kernelspec": {
   "display_name": "Python 3",
   "language": "python",
   "name": "python3"
  },
  "language_info": {
   "codemirror_mode": {
    "name": "ipython",
    "version": 3
   },
   "file_extension": ".py",
   "mimetype": "text/x-python",
   "name": "python",
   "nbconvert_exporter": "python",
   "pygments_lexer": "ipython3",
   "version": "3.7.4"
  }
 },
 "nbformat": 4,
 "nbformat_minor": 2
}
